{
 "cells": [
  {
   "cell_type": "code",
   "execution_count": 1,
   "metadata": {},
   "outputs": [],
   "source": [
    "import warnings\n",
    "warnings.filterwarnings(\"ignore\")\n",
    "\n",
    "import pandas as pd\n",
    "import numpy as np\n",
    "\n",
    "import matplotlib.pyplot as plt\n",
    "from matplotlib import cm\n",
    "import seaborn as sns\n",
    "from pydataset import data\n",
    "\n",
    "# acquire\n",
    "from env import host, user, password\n",
    "import acquire\n",
    "import wrangle\n",
    "\n",
    "\n",
    "# custom visuals \n",
    "import viz_kmeans\n",
    "\n",
    "# supress scientific notation\n",
    "np.set_printoptions(suppress=True)\n",
    "\n",
    "from sklearn.cluster import KMeans\n",
    "from sklearn.preprocessing import StandardScaler, MinMaxScaler"
   ]
  },
  {
   "cell_type": "markdown",
   "metadata": {},
   "source": [
    "<hr style=\"border:2px solid black\"> </hr>"
   ]
  },
  {
   "cell_type": "markdown",
   "metadata": {},
   "source": [
    "# Modeling Exercises"
   ]
  },
  {
   "cell_type": "markdown",
   "metadata": {},
   "source": [
    "1. Clustering with the Iris Dataset\n",
    "\n",
    "Using this lesson as a guide, perform clustering on the iris dataset.\n",
    "\n",
    "- a. Choose features other than the ones used in the lesson.\n",
    "- b. Visualize the results of your clustering.\n",
    "- c. Use the elbow method to visually select a good value for k.\n",
    "- d. Repeat the clustering, this time with 3 different features.\n",
    "\n",
    "\n",
    "2. Use the techniques discussed in this lesson, as well as the insights gained from the exploration exercise to perform clustering on the mall customers dataset. Be sure to visualize your results!\n",
    "\n",
    "\n",
    "3. How does scaling impact the results of clustering?\n",
    "- Compare k-means clustering results on scaled and unscaled data (you can choose any dataset for this exercise OR use the data/steps outlined in the bonus below). You can show how the resulting clusters differ either with descriptive statistics or visually."
   ]
  },
  {
   "cell_type": "markdown",
   "metadata": {},
   "source": [
    "<hr style=\"border:2px solid black\"> </hr>"
   ]
  },
  {
   "cell_type": "code",
   "execution_count": 2,
   "metadata": {},
   "outputs": [
    {
     "data": {
      "text/html": [
       "<div>\n",
       "<style scoped>\n",
       "    .dataframe tbody tr th:only-of-type {\n",
       "        vertical-align: middle;\n",
       "    }\n",
       "\n",
       "    .dataframe tbody tr th {\n",
       "        vertical-align: top;\n",
       "    }\n",
       "\n",
       "    .dataframe thead th {\n",
       "        text-align: right;\n",
       "    }\n",
       "</style>\n",
       "<table border=\"1\" class=\"dataframe\">\n",
       "  <thead>\n",
       "    <tr style=\"text-align: right;\">\n",
       "      <th></th>\n",
       "      <th>Sepal.Length</th>\n",
       "      <th>Sepal.Width</th>\n",
       "      <th>Petal.Length</th>\n",
       "      <th>Petal.Width</th>\n",
       "      <th>Species</th>\n",
       "    </tr>\n",
       "  </thead>\n",
       "  <tbody>\n",
       "    <tr>\n",
       "      <th>1</th>\n",
       "      <td>5.1</td>\n",
       "      <td>3.5</td>\n",
       "      <td>1.4</td>\n",
       "      <td>0.2</td>\n",
       "      <td>setosa</td>\n",
       "    </tr>\n",
       "    <tr>\n",
       "      <th>2</th>\n",
       "      <td>4.9</td>\n",
       "      <td>3.0</td>\n",
       "      <td>1.4</td>\n",
       "      <td>0.2</td>\n",
       "      <td>setosa</td>\n",
       "    </tr>\n",
       "    <tr>\n",
       "      <th>3</th>\n",
       "      <td>4.7</td>\n",
       "      <td>3.2</td>\n",
       "      <td>1.3</td>\n",
       "      <td>0.2</td>\n",
       "      <td>setosa</td>\n",
       "    </tr>\n",
       "    <tr>\n",
       "      <th>4</th>\n",
       "      <td>4.6</td>\n",
       "      <td>3.1</td>\n",
       "      <td>1.5</td>\n",
       "      <td>0.2</td>\n",
       "      <td>setosa</td>\n",
       "    </tr>\n",
       "    <tr>\n",
       "      <th>5</th>\n",
       "      <td>5.0</td>\n",
       "      <td>3.6</td>\n",
       "      <td>1.4</td>\n",
       "      <td>0.2</td>\n",
       "      <td>setosa</td>\n",
       "    </tr>\n",
       "  </tbody>\n",
       "</table>\n",
       "</div>"
      ],
      "text/plain": [
       "   Sepal.Length  Sepal.Width  Petal.Length  Petal.Width Species\n",
       "1           5.1          3.5           1.4          0.2  setosa\n",
       "2           4.9          3.0           1.4          0.2  setosa\n",
       "3           4.7          3.2           1.3          0.2  setosa\n",
       "4           4.6          3.1           1.5          0.2  setosa\n",
       "5           5.0          3.6           1.4          0.2  setosa"
      ]
     },
     "execution_count": 2,
     "metadata": {},
     "output_type": "execute_result"
    }
   ],
   "source": [
    "# import data\n",
    "iris = data('iris')\n",
    "\n",
    "#take a look at the data\n",
    "iris.head()"
   ]
  },
  {
   "cell_type": "code",
   "execution_count": 3,
   "metadata": {},
   "outputs": [
    {
     "data": {
      "text/html": [
       "<div>\n",
       "<style scoped>\n",
       "    .dataframe tbody tr th:only-of-type {\n",
       "        vertical-align: middle;\n",
       "    }\n",
       "\n",
       "    .dataframe tbody tr th {\n",
       "        vertical-align: top;\n",
       "    }\n",
       "\n",
       "    .dataframe thead th {\n",
       "        text-align: right;\n",
       "    }\n",
       "</style>\n",
       "<table border=\"1\" class=\"dataframe\">\n",
       "  <thead>\n",
       "    <tr style=\"text-align: right;\">\n",
       "      <th></th>\n",
       "      <th>sepal_length</th>\n",
       "      <th>sepal_width</th>\n",
       "      <th>petal_length</th>\n",
       "      <th>petal_width</th>\n",
       "      <th>species</th>\n",
       "    </tr>\n",
       "  </thead>\n",
       "  <tbody>\n",
       "    <tr>\n",
       "      <th>1</th>\n",
       "      <td>5.1</td>\n",
       "      <td>3.5</td>\n",
       "      <td>1.4</td>\n",
       "      <td>0.2</td>\n",
       "      <td>setosa</td>\n",
       "    </tr>\n",
       "    <tr>\n",
       "      <th>2</th>\n",
       "      <td>4.9</td>\n",
       "      <td>3.0</td>\n",
       "      <td>1.4</td>\n",
       "      <td>0.2</td>\n",
       "      <td>setosa</td>\n",
       "    </tr>\n",
       "    <tr>\n",
       "      <th>3</th>\n",
       "      <td>4.7</td>\n",
       "      <td>3.2</td>\n",
       "      <td>1.3</td>\n",
       "      <td>0.2</td>\n",
       "      <td>setosa</td>\n",
       "    </tr>\n",
       "    <tr>\n",
       "      <th>4</th>\n",
       "      <td>4.6</td>\n",
       "      <td>3.1</td>\n",
       "      <td>1.5</td>\n",
       "      <td>0.2</td>\n",
       "      <td>setosa</td>\n",
       "    </tr>\n",
       "    <tr>\n",
       "      <th>5</th>\n",
       "      <td>5.0</td>\n",
       "      <td>3.6</td>\n",
       "      <td>1.4</td>\n",
       "      <td>0.2</td>\n",
       "      <td>setosa</td>\n",
       "    </tr>\n",
       "  </tbody>\n",
       "</table>\n",
       "</div>"
      ],
      "text/plain": [
       "   sepal_length  sepal_width  petal_length  petal_width species\n",
       "1           5.1          3.5           1.4          0.2  setosa\n",
       "2           4.9          3.0           1.4          0.2  setosa\n",
       "3           4.7          3.2           1.3          0.2  setosa\n",
       "4           4.6          3.1           1.5          0.2  setosa\n",
       "5           5.0          3.6           1.4          0.2  setosa"
      ]
     },
     "execution_count": 3,
     "metadata": {},
     "output_type": "execute_result"
    }
   ],
   "source": [
    "# rename columns\n",
    "iris.columns = ['sepal_length', 'sepal_width', 'petal_length', 'petal_width',\n",
    "       'species']\n",
    "\n",
    "#make sure columns were renamed\n",
    "iris.head()"
   ]
  },
  {
   "cell_type": "markdown",
   "metadata": {},
   "source": [
    "<hr style=\"border:2px solid black\"> </hr>"
   ]
  },
  {
   "cell_type": "markdown",
   "metadata": {},
   "source": [
    "#### #1 Clustering with the Iris Dataset\n",
    "- Using this lesson as a guide, perform clustering on the iris dataset."
   ]
  },
  {
   "cell_type": "markdown",
   "metadata": {},
   "source": [
    "##### a. Choose features other than the ones used in the lesson."
   ]
  },
  {
   "cell_type": "code",
   "execution_count": 4,
   "metadata": {},
   "outputs": [
    {
     "data": {
      "text/html": [
       "<div>\n",
       "<style scoped>\n",
       "    .dataframe tbody tr th:only-of-type {\n",
       "        vertical-align: middle;\n",
       "    }\n",
       "\n",
       "    .dataframe tbody tr th {\n",
       "        vertical-align: top;\n",
       "    }\n",
       "\n",
       "    .dataframe thead th {\n",
       "        text-align: right;\n",
       "    }\n",
       "</style>\n",
       "<table border=\"1\" class=\"dataframe\">\n",
       "  <thead>\n",
       "    <tr style=\"text-align: right;\">\n",
       "      <th></th>\n",
       "      <th>sepal_width</th>\n",
       "      <th>petal_width</th>\n",
       "    </tr>\n",
       "  </thead>\n",
       "  <tbody>\n",
       "    <tr>\n",
       "      <th>1</th>\n",
       "      <td>3.5</td>\n",
       "      <td>0.2</td>\n",
       "    </tr>\n",
       "    <tr>\n",
       "      <th>2</th>\n",
       "      <td>3.0</td>\n",
       "      <td>0.2</td>\n",
       "    </tr>\n",
       "    <tr>\n",
       "      <th>3</th>\n",
       "      <td>3.2</td>\n",
       "      <td>0.2</td>\n",
       "    </tr>\n",
       "    <tr>\n",
       "      <th>4</th>\n",
       "      <td>3.1</td>\n",
       "      <td>0.2</td>\n",
       "    </tr>\n",
       "    <tr>\n",
       "      <th>5</th>\n",
       "      <td>3.6</td>\n",
       "      <td>0.2</td>\n",
       "    </tr>\n",
       "  </tbody>\n",
       "</table>\n",
       "</div>"
      ],
      "text/plain": [
       "   sepal_width  petal_width\n",
       "1          3.5          0.2\n",
       "2          3.0          0.2\n",
       "3          3.2          0.2\n",
       "4          3.1          0.2\n",
       "5          3.6          0.2"
      ]
     },
     "execution_count": 4,
     "metadata": {},
     "output_type": "execute_result"
    }
   ],
   "source": [
    "# define independent variables for k-means\n",
    "X = iris[['sepal_width', 'petal_width']]\n",
    "\n",
    "#take a look at X only\n",
    "X.head()"
   ]
  },
  {
   "cell_type": "code",
   "execution_count": 5,
   "metadata": {},
   "outputs": [],
   "source": [
    "#fit on X\n",
    "scaler = StandardScaler().fit(X)\n",
    "\n",
    "#transform on X\n",
    "X_scaled = pd.DataFrame(scaler.transform(X), columns= X.columns).set_index([X.index.values])"
   ]
  },
  {
   "cell_type": "code",
   "execution_count": 6,
   "metadata": {},
   "outputs": [
    {
     "data": {
      "text/html": [
       "<div>\n",
       "<style scoped>\n",
       "    .dataframe tbody tr th:only-of-type {\n",
       "        vertical-align: middle;\n",
       "    }\n",
       "\n",
       "    .dataframe tbody tr th {\n",
       "        vertical-align: top;\n",
       "    }\n",
       "\n",
       "    .dataframe thead th {\n",
       "        text-align: right;\n",
       "    }\n",
       "</style>\n",
       "<table border=\"1\" class=\"dataframe\">\n",
       "  <thead>\n",
       "    <tr style=\"text-align: right;\">\n",
       "      <th></th>\n",
       "      <th>sepal_width</th>\n",
       "      <th>petal_width</th>\n",
       "    </tr>\n",
       "  </thead>\n",
       "  <tbody>\n",
       "    <tr>\n",
       "      <th>1</th>\n",
       "      <td>1.019004</td>\n",
       "      <td>-1.315444</td>\n",
       "    </tr>\n",
       "    <tr>\n",
       "      <th>2</th>\n",
       "      <td>-0.131979</td>\n",
       "      <td>-1.315444</td>\n",
       "    </tr>\n",
       "    <tr>\n",
       "      <th>3</th>\n",
       "      <td>0.328414</td>\n",
       "      <td>-1.315444</td>\n",
       "    </tr>\n",
       "    <tr>\n",
       "      <th>4</th>\n",
       "      <td>0.098217</td>\n",
       "      <td>-1.315444</td>\n",
       "    </tr>\n",
       "    <tr>\n",
       "      <th>5</th>\n",
       "      <td>1.249201</td>\n",
       "      <td>-1.315444</td>\n",
       "    </tr>\n",
       "  </tbody>\n",
       "</table>\n",
       "</div>"
      ],
      "text/plain": [
       "   sepal_width  petal_width\n",
       "1     1.019004    -1.315444\n",
       "2    -0.131979    -1.315444\n",
       "3     0.328414    -1.315444\n",
       "4     0.098217    -1.315444\n",
       "5     1.249201    -1.315444"
      ]
     },
     "execution_count": 6,
     "metadata": {},
     "output_type": "execute_result"
    }
   ],
   "source": [
    "#take a look at X_scaled\n",
    "X_scaled.head()"
   ]
  },
  {
   "cell_type": "code",
   "execution_count": 7,
   "metadata": {},
   "outputs": [
    {
     "data": {
      "text/plain": [
       "array([0, 0, 0, 0, 0, 0, 0, 0, 0, 0, 0, 0, 0, 0, 0, 0, 0, 0, 0, 0, 0, 0,\n",
       "       0, 0, 0, 0, 0, 0, 0, 0, 0, 0, 0, 0, 0, 0, 0, 0, 0, 0, 0, 1, 0, 0,\n",
       "       0, 0, 0, 0, 0, 0, 2, 2, 2, 1, 1, 1, 2, 1, 1, 1, 1, 2, 1, 1, 1, 2,\n",
       "       2, 1, 1, 1, 2, 1, 1, 1, 1, 2, 1, 2, 1, 1, 1, 1, 1, 1, 2, 2, 2, 1,\n",
       "       1, 1, 1, 2, 1, 1, 1, 1, 1, 1, 1, 1, 2, 1, 2, 2, 2, 2, 1, 2, 1, 2,\n",
       "       2, 1, 2, 1, 2, 2, 2, 2, 1, 1, 2, 2, 2, 1, 2, 2, 1, 2, 2, 2, 2, 2,\n",
       "       2, 1, 1, 2, 2, 2, 2, 2, 2, 2, 1, 2, 2, 2, 1, 2, 2, 2], dtype=int32)"
      ]
     },
     "execution_count": 7,
     "metadata": {},
     "output_type": "execute_result"
    }
   ],
   "source": [
    "# sklearn implementation of KMeans\n",
    "\n",
    "#define the thing/ choosing 3 clusters\n",
    "kmeans = KMeans(n_clusters=3, random_state = 123)\n",
    "\n",
    "# fit the thing on X_scaled\n",
    "kmeans.fit(X_scaled)\n",
    "\n",
    "# Use (predict using) the thing\n",
    "#which clusters correspond to each datapoint\n",
    "kmeans.predict(X_scaled)"
   ]
  },
  {
   "cell_type": "code",
   "execution_count": 8,
   "metadata": {},
   "outputs": [],
   "source": [
    "# make a new column names cluster in iris and X_scaled dataframe\n",
    "iris['cluster'] =kmeans.predict(X_scaled)\n",
    "X_scaled['cluster'] = kmeans.predict(X_scaled)"
   ]
  },
  {
   "cell_type": "markdown",
   "metadata": {},
   "source": [
    "______________________"
   ]
  },
  {
   "cell_type": "markdown",
   "metadata": {},
   "source": [
    "##### b. Visualize the results of your clustering."
   ]
  },
  {
   "cell_type": "code",
   "execution_count": 9,
   "metadata": {},
   "outputs": [
    {
     "data": {
      "image/png": "[encoded data removed]",
      "text/plain": [
       "<Figure size 720x720 with 2 Axes>"
      ]
     },
     "metadata": {
      "needs_background": "light"
     },
     "output_type": "display_data"
    }
   ],
   "source": [
    "# Visualize the scatter plot for Actual vs predicted (K-Means)\n",
    "viz_kmeans.viz_iris(iris, kmeans)"
   ]
  },
  {
   "cell_type": "markdown",
   "metadata": {},
   "source": [
    "______________________"
   ]
  },
  {
   "cell_type": "markdown",
   "metadata": {},
   "source": [
    "##### c. Use the elbow method to visually select a good value for k."
   ]
  },
  {
   "cell_type": "code",
   "execution_count": 10,
   "metadata": {},
   "outputs": [
    {
     "data": {
      "image/png": "[encoded data removed]",
      "text/plain": [
       "<Figure size 936x936 with 4 Axes>"
      ]
     },
     "metadata": {
      "needs_background": "light"
     },
     "output_type": "display_data"
    }
   ],
   "source": [
    "# What value of k is appropriate?\n",
    "#plot it\n",
    "fig, axs = plt.subplots(2, 2, figsize=(13, 13), sharex=True, sharey=True)\n",
    "\n",
    "#k =2-5.. take a look at those different k values\n",
    "for ax, k in zip(axs.ravel(), range(2, 6)):\n",
    "    clusters = KMeans(k).fit(X_scaled).predict(X_scaled)\n",
    "    ax.scatter(X.sepal_width, X.petal_width, c=clusters)\n",
    "    ax.set(title='k = {}'.format(k), xlabel='sepal width', ylabel='petal width')"
   ]
  },
  {
   "cell_type": "code",
   "execution_count": 11,
   "metadata": {},
   "outputs": [
    {
     "data": {
      "image/png": "[encoded data removed]",
      "text/plain": [
       "<Figure size 648x432 with 1 Axes>"
      ]
     },
     "metadata": {},
     "output_type": "display_data"
    }
   ],
   "source": [
    "# lets plot inertia vs k\n",
    "#lot inertia with k from 2-11\n",
    "with plt.style.context('seaborn-whitegrid'):\n",
    "    plt.figure(figsize=(9, 6))\n",
    "    pd.Series({k: KMeans(k).fit(X_scaled).inertia_ for k in range(2, 12)}).plot(marker='x')\n",
    "    plt.xticks(range(2, 12))\n",
    "    plt.xlabel('k')\n",
    "    plt.ylabel('inertia')\n",
    "    plt.title('Change in inertia as k increases')\n",
    "    \n",
    "#this is subjective.\n",
    "#when the drop off stops, we would chose that K"
   ]
  },
  {
   "cell_type": "markdown",
   "metadata": {},
   "source": [
    "______________________"
   ]
  },
  {
   "cell_type": "markdown",
   "metadata": {},
   "source": [
    "##### d. Repeat the clustering, this time with 3 different features."
   ]
  },
  {
   "cell_type": "code",
   "execution_count": 12,
   "metadata": {},
   "outputs": [],
   "source": [
    "#identify X\n",
    "X = iris[['petal_width', 'sepal_width', 'petal_length']]\n",
    "from sklearn.preprocessing import StandardScaler\n",
    "\n",
    "#fit the model\n",
    "scaler = StandardScaler().fit(X)\n",
    "\n",
    "#transform the model\n",
    "X_scaled = pd.DataFrame(scaler.transform(X), columns= X.columns).set_index([X.index.values])"
   ]
  },
  {
   "cell_type": "code",
   "execution_count": 13,
   "metadata": {},
   "outputs": [
    {
     "data": {
      "image/png": "[encoded data removed]",
      "text/plain": [
       "<Figure size 720x720 with 2 Axes>"
      ]
     },
     "metadata": {
      "needs_background": "light"
     },
     "output_type": "display_data"
    }
   ],
   "source": [
    "# Visualize the scatter plot for Actual vs predicted (K-Means)\n",
    "viz_kmeans.viz_iris(iris, kmeans)"
   ]
  },
  {
   "cell_type": "markdown",
   "metadata": {},
   "source": [
    "<hr style=\"border:2px solid black\"> </hr>"
   ]
  },
  {
   "cell_type": "markdown",
   "metadata": {},
   "source": [
    "#### #2 Use the techniques discussed in this lesson, as well as the insights gained from the exploration exercise to perform clustering on the mall customers dataset. Be sure to visualize your results!"
   ]
  },
  {
   "cell_type": "code",
   "execution_count": 14,
   "metadata": {},
   "outputs": [],
   "source": [
    "#function in acquire.py\n",
    "def get_connection(db_name):\n",
    "    '''\n",
    "    This function uses my info from my env file to\n",
    "    create a connection url to access the Codeup db.\n",
    "    '''\n",
    "    from env import host, user, password\n",
    "    return f'mysql+pymysql://{user}:{password}@{host}/{db_name}'"
   ]
  },
  {
   "cell_type": "code",
   "execution_count": 15,
   "metadata": {},
   "outputs": [],
   "source": [
    "#function in acquire.py\n",
    "def get_mall_customers():\n",
    "    '''\n",
    "    This function reads in the mall_customers data from the Codeup db\n",
    "    returns: a pandas DataFrame \n",
    "    '''\n",
    "    \n",
    "    mall_query = '''\n",
    "    SELECT *\n",
    "    FROM customers\n",
    "    '''\n",
    "    return pd.read_sql(mall_query, get_connection('mall_customers'))"
   ]
  },
  {
   "cell_type": "code",
   "execution_count": 16,
   "metadata": {},
   "outputs": [],
   "source": [
    "df = acquire.get_mall_customers()"
   ]
  },
  {
   "cell_type": "code",
   "execution_count": 17,
   "metadata": {},
   "outputs": [
    {
     "data": {
      "text/html": [
       "<div>\n",
       "<style scoped>\n",
       "    .dataframe tbody tr th:only-of-type {\n",
       "        vertical-align: middle;\n",
       "    }\n",
       "\n",
       "    .dataframe tbody tr th {\n",
       "        vertical-align: top;\n",
       "    }\n",
       "\n",
       "    .dataframe thead th {\n",
       "        text-align: right;\n",
       "    }\n",
       "</style>\n",
       "<table border=\"1\" class=\"dataframe\">\n",
       "  <thead>\n",
       "    <tr style=\"text-align: right;\">\n",
       "      <th></th>\n",
       "      <th>gender</th>\n",
       "      <th>age</th>\n",
       "      <th>annual_income</th>\n",
       "      <th>spending_score</th>\n",
       "    </tr>\n",
       "    <tr>\n",
       "      <th>customer_id</th>\n",
       "      <th></th>\n",
       "      <th></th>\n",
       "      <th></th>\n",
       "      <th></th>\n",
       "    </tr>\n",
       "  </thead>\n",
       "  <tbody>\n",
       "    <tr>\n",
       "      <th>1</th>\n",
       "      <td>Male</td>\n",
       "      <td>19</td>\n",
       "      <td>15</td>\n",
       "      <td>39</td>\n",
       "    </tr>\n",
       "    <tr>\n",
       "      <th>2</th>\n",
       "      <td>Male</td>\n",
       "      <td>21</td>\n",
       "      <td>15</td>\n",
       "      <td>81</td>\n",
       "    </tr>\n",
       "    <tr>\n",
       "      <th>3</th>\n",
       "      <td>Female</td>\n",
       "      <td>20</td>\n",
       "      <td>16</td>\n",
       "      <td>6</td>\n",
       "    </tr>\n",
       "    <tr>\n",
       "      <th>4</th>\n",
       "      <td>Female</td>\n",
       "      <td>23</td>\n",
       "      <td>16</td>\n",
       "      <td>77</td>\n",
       "    </tr>\n",
       "    <tr>\n",
       "      <th>5</th>\n",
       "      <td>Female</td>\n",
       "      <td>31</td>\n",
       "      <td>17</td>\n",
       "      <td>40</td>\n",
       "    </tr>\n",
       "  </tbody>\n",
       "</table>\n",
       "</div>"
      ],
      "text/plain": [
       "             gender  age  annual_income  spending_score\n",
       "customer_id                                            \n",
       "1              Male   19             15              39\n",
       "2              Male   21             15              81\n",
       "3            Female   20             16               6\n",
       "4            Female   23             16              77\n",
       "5            Female   31             17              40"
      ]
     },
     "execution_count": 17,
     "metadata": {},
     "output_type": "execute_result"
    }
   ],
   "source": [
    "df.head()"
   ]
  },
  {
   "cell_type": "code",
   "execution_count": 18,
   "metadata": {},
   "outputs": [
    {
     "data": {
      "text/html": [
       "<div>\n",
       "<style scoped>\n",
       "    .dataframe tbody tr th:only-of-type {\n",
       "        vertical-align: middle;\n",
       "    }\n",
       "\n",
       "    .dataframe tbody tr th {\n",
       "        vertical-align: top;\n",
       "    }\n",
       "\n",
       "    .dataframe thead th {\n",
       "        text-align: right;\n",
       "    }\n",
       "</style>\n",
       "<table border=\"1\" class=\"dataframe\">\n",
       "  <thead>\n",
       "    <tr style=\"text-align: right;\">\n",
       "      <th></th>\n",
       "      <th>age</th>\n",
       "      <th>annual_income</th>\n",
       "    </tr>\n",
       "    <tr>\n",
       "      <th>customer_id</th>\n",
       "      <th></th>\n",
       "      <th></th>\n",
       "    </tr>\n",
       "  </thead>\n",
       "  <tbody>\n",
       "    <tr>\n",
       "      <th>1</th>\n",
       "      <td>19</td>\n",
       "      <td>15</td>\n",
       "    </tr>\n",
       "    <tr>\n",
       "      <th>2</th>\n",
       "      <td>21</td>\n",
       "      <td>15</td>\n",
       "    </tr>\n",
       "    <tr>\n",
       "      <th>3</th>\n",
       "      <td>20</td>\n",
       "      <td>16</td>\n",
       "    </tr>\n",
       "    <tr>\n",
       "      <th>4</th>\n",
       "      <td>23</td>\n",
       "      <td>16</td>\n",
       "    </tr>\n",
       "    <tr>\n",
       "      <th>5</th>\n",
       "      <td>31</td>\n",
       "      <td>17</td>\n",
       "    </tr>\n",
       "  </tbody>\n",
       "</table>\n",
       "</div>"
      ],
      "text/plain": [
       "             age  annual_income\n",
       "customer_id                    \n",
       "1             19             15\n",
       "2             21             15\n",
       "3             20             16\n",
       "4             23             16\n",
       "5             31             17"
      ]
     },
     "execution_count": 18,
     "metadata": {},
     "output_type": "execute_result"
    }
   ],
   "source": [
    "# define independent variables for k-means\n",
    "X = df[['age', 'annual_income']]\n",
    "\n",
    "#take a look at X only\n",
    "X.head()"
   ]
  },
  {
   "cell_type": "code",
   "execution_count": 19,
   "metadata": {},
   "outputs": [
    {
     "data": {
      "image/png": "[encoded data removed]",
      "text/plain": [
       "<Figure size 432x288 with 2 Axes>"
      ]
     },
     "metadata": {
      "needs_background": "light"
     },
     "output_type": "display_data"
    }
   ],
   "source": [
    "#take a look at distribution to decide what scaler to use\n",
    "#these are basically normally distributed\n",
    "X.hist()\n",
    "plt.show()"
   ]
  },
  {
   "cell_type": "code",
   "execution_count": 20,
   "metadata": {},
   "outputs": [],
   "source": [
    "#fit on X\n",
    "scaler = MinMaxScaler().fit(X)\n",
    "\n",
    "#transform on X\n",
    "X_scaled = pd.DataFrame(scaler.transform(X), columns= X.columns).set_index([X.index.values])"
   ]
  },
  {
   "cell_type": "code",
   "execution_count": 21,
   "metadata": {},
   "outputs": [
    {
     "data": {
      "text/html": [
       "<div>\n",
       "<style scoped>\n",
       "    .dataframe tbody tr th:only-of-type {\n",
       "        vertical-align: middle;\n",
       "    }\n",
       "\n",
       "    .dataframe tbody tr th {\n",
       "        vertical-align: top;\n",
       "    }\n",
       "\n",
       "    .dataframe thead th {\n",
       "        text-align: right;\n",
       "    }\n",
       "</style>\n",
       "<table border=\"1\" class=\"dataframe\">\n",
       "  <thead>\n",
       "    <tr style=\"text-align: right;\">\n",
       "      <th></th>\n",
       "      <th>age</th>\n",
       "      <th>annual_income</th>\n",
       "    </tr>\n",
       "  </thead>\n",
       "  <tbody>\n",
       "    <tr>\n",
       "      <th>1</th>\n",
       "      <td>0.019231</td>\n",
       "      <td>0.000000</td>\n",
       "    </tr>\n",
       "    <tr>\n",
       "      <th>2</th>\n",
       "      <td>0.057692</td>\n",
       "      <td>0.000000</td>\n",
       "    </tr>\n",
       "    <tr>\n",
       "      <th>3</th>\n",
       "      <td>0.038462</td>\n",
       "      <td>0.008197</td>\n",
       "    </tr>\n",
       "    <tr>\n",
       "      <th>4</th>\n",
       "      <td>0.096154</td>\n",
       "      <td>0.008197</td>\n",
       "    </tr>\n",
       "    <tr>\n",
       "      <th>5</th>\n",
       "      <td>0.250000</td>\n",
       "      <td>0.016393</td>\n",
       "    </tr>\n",
       "  </tbody>\n",
       "</table>\n",
       "</div>"
      ],
      "text/plain": [
       "        age  annual_income\n",
       "1  0.019231       0.000000\n",
       "2  0.057692       0.000000\n",
       "3  0.038462       0.008197\n",
       "4  0.096154       0.008197\n",
       "5  0.250000       0.016393"
      ]
     },
     "execution_count": 21,
     "metadata": {},
     "output_type": "execute_result"
    }
   ],
   "source": [
    "#take a look at X_scaled\n",
    "X_scaled.head()"
   ]
  },
  {
   "cell_type": "code",
   "execution_count": 22,
   "metadata": {},
   "outputs": [
    {
     "data": {
      "text/plain": [
       "array([0, 0, 0, 0, 0, 0, 0, 0, 2, 0, 2, 0, 2, 0, 0, 0, 0, 0, 2, 0, 0, 0,\n",
       "       2, 0, 2, 0, 2, 0, 0, 0, 2, 0, 2, 0, 2, 0, 2, 0, 0, 0, 2, 0, 2, 0,\n",
       "       2, 0, 2, 0, 0, 0, 2, 0, 0, 2, 2, 2, 2, 2, 0, 2, 2, 0, 2, 2, 2, 0,\n",
       "       2, 2, 0, 0, 2, 2, 2, 2, 2, 0, 2, 1, 0, 2, 2, 1, 2, 2, 0, 2, 2, 0,\n",
       "       1, 2, 2, 0, 2, 1, 1, 0, 2, 0, 2, 0, 0, 2, 2, 0, 2, 0, 2, 2, 2, 2,\n",
       "       2, 0, 1, 0, 0, 0, 2, 2, 2, 2, 1, 1, 1, 1, 1, 1, 1, 1, 2, 1, 2, 1,\n",
       "       1, 1, 1, 1, 1, 1, 1, 1, 2, 1, 1, 1, 1, 1, 2, 1, 1, 1, 1, 1, 1, 1,\n",
       "       1, 1, 1, 1, 1, 1, 2, 1, 1, 1, 2, 1, 1, 1, 1, 1, 1, 1, 1, 1, 2, 1,\n",
       "       2, 1, 2, 1, 1, 1, 1, 1, 1, 1, 2, 1, 1, 1, 1, 1, 1, 1, 1, 1, 1, 1,\n",
       "       1, 1], dtype=int32)"
      ]
     },
     "execution_count": 22,
     "metadata": {},
     "output_type": "execute_result"
    }
   ],
   "source": [
    "# sklearn implementation of KMeans\n",
    "\n",
    "#define the thing/ choosing 3 clusters\n",
    "kmeans = KMeans(n_clusters=3, random_state = 123)\n",
    "\n",
    "# fit the thing on X_scaled\n",
    "kmeans.fit(X_scaled)\n",
    "\n",
    "# Use (predict using) the thing\n",
    "#which clusters correspond to each datapoint\n",
    "kmeans.predict(X_scaled)"
   ]
  },
  {
   "cell_type": "code",
   "execution_count": 23,
   "metadata": {},
   "outputs": [],
   "source": [
    "# make a new column names cluster in iris and X_scaled dataframe\n",
    "df['cluster'] =kmeans.predict(X_scaled)\n",
    "X_scaled['cluster'] = kmeans.predict(X_scaled)"
   ]
  },
  {
   "cell_type": "code",
   "execution_count": 24,
   "metadata": {},
   "outputs": [
    {
     "data": {
      "text/html": [
       "<div>\n",
       "<style scoped>\n",
       "    .dataframe tbody tr th:only-of-type {\n",
       "        vertical-align: middle;\n",
       "    }\n",
       "\n",
       "    .dataframe tbody tr th {\n",
       "        vertical-align: top;\n",
       "    }\n",
       "\n",
       "    .dataframe thead th {\n",
       "        text-align: right;\n",
       "    }\n",
       "</style>\n",
       "<table border=\"1\" class=\"dataframe\">\n",
       "  <thead>\n",
       "    <tr style=\"text-align: right;\">\n",
       "      <th></th>\n",
       "      <th>gender</th>\n",
       "      <th>age</th>\n",
       "      <th>annual_income</th>\n",
       "      <th>spending_score</th>\n",
       "      <th>cluster</th>\n",
       "    </tr>\n",
       "    <tr>\n",
       "      <th>customer_id</th>\n",
       "      <th></th>\n",
       "      <th></th>\n",
       "      <th></th>\n",
       "      <th></th>\n",
       "      <th></th>\n",
       "    </tr>\n",
       "  </thead>\n",
       "  <tbody>\n",
       "    <tr>\n",
       "      <th>156</th>\n",
       "      <td>Female</td>\n",
       "      <td>27</td>\n",
       "      <td>78</td>\n",
       "      <td>89</td>\n",
       "      <td>1</td>\n",
       "    </tr>\n",
       "    <tr>\n",
       "      <th>27</th>\n",
       "      <td>Female</td>\n",
       "      <td>45</td>\n",
       "      <td>28</td>\n",
       "      <td>32</td>\n",
       "      <td>2</td>\n",
       "    </tr>\n",
       "    <tr>\n",
       "      <th>119</th>\n",
       "      <td>Female</td>\n",
       "      <td>51</td>\n",
       "      <td>67</td>\n",
       "      <td>43</td>\n",
       "      <td>2</td>\n",
       "    </tr>\n",
       "    <tr>\n",
       "      <th>102</th>\n",
       "      <td>Female</td>\n",
       "      <td>49</td>\n",
       "      <td>62</td>\n",
       "      <td>48</td>\n",
       "      <td>2</td>\n",
       "    </tr>\n",
       "    <tr>\n",
       "      <th>138</th>\n",
       "      <td>Male</td>\n",
       "      <td>32</td>\n",
       "      <td>73</td>\n",
       "      <td>73</td>\n",
       "      <td>1</td>\n",
       "    </tr>\n",
       "    <tr>\n",
       "      <th>110</th>\n",
       "      <td>Male</td>\n",
       "      <td>66</td>\n",
       "      <td>63</td>\n",
       "      <td>48</td>\n",
       "      <td>2</td>\n",
       "    </tr>\n",
       "    <tr>\n",
       "      <th>82</th>\n",
       "      <td>Male</td>\n",
       "      <td>38</td>\n",
       "      <td>54</td>\n",
       "      <td>55</td>\n",
       "      <td>1</td>\n",
       "    </tr>\n",
       "    <tr>\n",
       "      <th>140</th>\n",
       "      <td>Female</td>\n",
       "      <td>35</td>\n",
       "      <td>74</td>\n",
       "      <td>72</td>\n",
       "      <td>1</td>\n",
       "    </tr>\n",
       "    <tr>\n",
       "      <th>136</th>\n",
       "      <td>Female</td>\n",
       "      <td>29</td>\n",
       "      <td>73</td>\n",
       "      <td>88</td>\n",
       "      <td>1</td>\n",
       "    </tr>\n",
       "    <tr>\n",
       "      <th>158</th>\n",
       "      <td>Female</td>\n",
       "      <td>30</td>\n",
       "      <td>78</td>\n",
       "      <td>78</td>\n",
       "      <td>1</td>\n",
       "    </tr>\n",
       "    <tr>\n",
       "      <th>42</th>\n",
       "      <td>Male</td>\n",
       "      <td>24</td>\n",
       "      <td>38</td>\n",
       "      <td>92</td>\n",
       "      <td>0</td>\n",
       "    </tr>\n",
       "    <tr>\n",
       "      <th>29</th>\n",
       "      <td>Female</td>\n",
       "      <td>40</td>\n",
       "      <td>29</td>\n",
       "      <td>31</td>\n",
       "      <td>0</td>\n",
       "    </tr>\n",
       "    <tr>\n",
       "      <th>34</th>\n",
       "      <td>Male</td>\n",
       "      <td>18</td>\n",
       "      <td>33</td>\n",
       "      <td>92</td>\n",
       "      <td>0</td>\n",
       "    </tr>\n",
       "    <tr>\n",
       "      <th>1</th>\n",
       "      <td>Male</td>\n",
       "      <td>19</td>\n",
       "      <td>15</td>\n",
       "      <td>39</td>\n",
       "      <td>0</td>\n",
       "    </tr>\n",
       "    <tr>\n",
       "      <th>84</th>\n",
       "      <td>Female</td>\n",
       "      <td>46</td>\n",
       "      <td>54</td>\n",
       "      <td>44</td>\n",
       "      <td>2</td>\n",
       "    </tr>\n",
       "  </tbody>\n",
       "</table>\n",
       "</div>"
      ],
      "text/plain": [
       "             gender  age  annual_income  spending_score  cluster\n",
       "customer_id                                                     \n",
       "156          Female   27             78              89        1\n",
       "27           Female   45             28              32        2\n",
       "119          Female   51             67              43        2\n",
       "102          Female   49             62              48        2\n",
       "138            Male   32             73              73        1\n",
       "110            Male   66             63              48        2\n",
       "82             Male   38             54              55        1\n",
       "140          Female   35             74              72        1\n",
       "136          Female   29             73              88        1\n",
       "158          Female   30             78              78        1\n",
       "42             Male   24             38              92        0\n",
       "29           Female   40             29              31        0\n",
       "34             Male   18             33              92        0\n",
       "1              Male   19             15              39        0\n",
       "84           Female   46             54              44        2"
      ]
     },
     "execution_count": 24,
     "metadata": {},
     "output_type": "execute_result"
    }
   ],
   "source": [
    "# lets look at sample of 15 randomly selected rows in iris dataset\n",
    "df.sample(15)\n",
    "#this shows you in 'cluster' column which cluster the computer believes it belongs to"
   ]
  },
  {
   "cell_type": "code",
   "execution_count": 25,
   "metadata": {},
   "outputs": [
    {
     "data": {
      "text/plain": [
       "array([[0.14878543, 0.18550475],\n",
       "       [0.31098178, 0.56794651],\n",
       "       [0.71756602, 0.3126988 ]])"
      ]
     },
     "execution_count": 25,
     "metadata": {},
     "output_type": "execute_result"
    }
   ],
   "source": [
    "#Cluster Centers aka centroids. \n",
    "#The output is scaled!! Not original units\n",
    "kmeans.cluster_centers_"
   ]
  },
  {
   "cell_type": "code",
   "execution_count": 26,
   "metadata": {
    "scrolled": true
   },
   "outputs": [
    {
     "data": {
      "text/html": [
       "<div>\n",
       "<style scoped>\n",
       "    .dataframe tbody tr th:only-of-type {\n",
       "        vertical-align: middle;\n",
       "    }\n",
       "\n",
       "    .dataframe tbody tr th {\n",
       "        vertical-align: top;\n",
       "    }\n",
       "\n",
       "    .dataframe thead th {\n",
       "        text-align: right;\n",
       "    }\n",
       "</style>\n",
       "<table border=\"1\" class=\"dataframe\">\n",
       "  <thead>\n",
       "    <tr style=\"text-align: right;\">\n",
       "      <th></th>\n",
       "      <th>gender</th>\n",
       "      <th>age</th>\n",
       "      <th>annual_income</th>\n",
       "      <th>spending_score</th>\n",
       "      <th>cluster</th>\n",
       "    </tr>\n",
       "    <tr>\n",
       "      <th>customer_id</th>\n",
       "      <th></th>\n",
       "      <th></th>\n",
       "      <th></th>\n",
       "      <th></th>\n",
       "      <th></th>\n",
       "    </tr>\n",
       "  </thead>\n",
       "  <tbody>\n",
       "    <tr>\n",
       "      <th>1</th>\n",
       "      <td>Male</td>\n",
       "      <td>19</td>\n",
       "      <td>15</td>\n",
       "      <td>39</td>\n",
       "      <td>cluster_0</td>\n",
       "    </tr>\n",
       "    <tr>\n",
       "      <th>2</th>\n",
       "      <td>Male</td>\n",
       "      <td>21</td>\n",
       "      <td>15</td>\n",
       "      <td>81</td>\n",
       "      <td>cluster_0</td>\n",
       "    </tr>\n",
       "    <tr>\n",
       "      <th>3</th>\n",
       "      <td>Female</td>\n",
       "      <td>20</td>\n",
       "      <td>16</td>\n",
       "      <td>6</td>\n",
       "      <td>cluster_0</td>\n",
       "    </tr>\n",
       "    <tr>\n",
       "      <th>4</th>\n",
       "      <td>Female</td>\n",
       "      <td>23</td>\n",
       "      <td>16</td>\n",
       "      <td>77</td>\n",
       "      <td>cluster_0</td>\n",
       "    </tr>\n",
       "    <tr>\n",
       "      <th>5</th>\n",
       "      <td>Female</td>\n",
       "      <td>31</td>\n",
       "      <td>17</td>\n",
       "      <td>40</td>\n",
       "      <td>cluster_0</td>\n",
       "    </tr>\n",
       "  </tbody>\n",
       "</table>\n",
       "</div>"
      ],
      "text/plain": [
       "             gender  age  annual_income  spending_score    cluster\n",
       "customer_id                                                       \n",
       "1              Male   19             15              39  cluster_0\n",
       "2              Male   21             15              81  cluster_0\n",
       "3            Female   20             16               6  cluster_0\n",
       "4            Female   23             16              77  cluster_0\n",
       "5            Female   31             17              40  cluster_0"
      ]
     },
     "execution_count": 26,
     "metadata": {},
     "output_type": "execute_result"
    }
   ],
   "source": [
    "#change the cluster column to a string to plot it better\n",
    "df['cluster'] = 'cluster_' + df.cluster.astype(str)\n",
    "df.head()"
   ]
  },
  {
   "cell_type": "code",
   "execution_count": 27,
   "metadata": {},
   "outputs": [
    {
     "data": {
      "text/html": [
       "<div>\n",
       "<style scoped>\n",
       "    .dataframe tbody tr th:only-of-type {\n",
       "        vertical-align: middle;\n",
       "    }\n",
       "\n",
       "    .dataframe tbody tr th {\n",
       "        vertical-align: top;\n",
       "    }\n",
       "\n",
       "    .dataframe thead th {\n",
       "        text-align: right;\n",
       "    }\n",
       "</style>\n",
       "<table border=\"1\" class=\"dataframe\">\n",
       "  <thead>\n",
       "    <tr style=\"text-align: right;\">\n",
       "      <th></th>\n",
       "      <th>age</th>\n",
       "      <th>annual_income</th>\n",
       "    </tr>\n",
       "    <tr>\n",
       "      <th>cluster</th>\n",
       "      <th></th>\n",
       "      <th></th>\n",
       "    </tr>\n",
       "  </thead>\n",
       "  <tbody>\n",
       "    <tr>\n",
       "      <th>cluster_0</th>\n",
       "      <td>25.736842</td>\n",
       "      <td>37.631579</td>\n",
       "    </tr>\n",
       "    <tr>\n",
       "      <th>cluster_1</th>\n",
       "      <td>34.171053</td>\n",
       "      <td>84.289474</td>\n",
       "    </tr>\n",
       "    <tr>\n",
       "      <th>cluster_2</th>\n",
       "      <td>55.313433</td>\n",
       "      <td>53.149254</td>\n",
       "    </tr>\n",
       "  </tbody>\n",
       "</table>\n",
       "</div>"
      ],
      "text/plain": [
       "                 age  annual_income\n",
       "cluster                            \n",
       "cluster_0  25.736842      37.631579\n",
       "cluster_1  34.171053      84.289474\n",
       "cluster_2  55.313433      53.149254"
      ]
     },
     "execution_count": 27,
     "metadata": {},
     "output_type": "execute_result"
    }
   ],
   "source": [
    "# DataFrame of unscaled Centriods\n",
    "#group by clusters. mean of age and income.\n",
    "centroids = df.groupby('cluster')['age', 'annual_income'].mean()\n",
    "centroids\n",
    "\n",
    "#this will correspond with scatterplot- unscaled data"
   ]
  },
  {
   "cell_type": "code",
   "execution_count": 28,
   "metadata": {},
   "outputs": [
    {
     "data": {
      "text/html": [
       "<div>\n",
       "<style scoped>\n",
       "    .dataframe tbody tr th:only-of-type {\n",
       "        vertical-align: middle;\n",
       "    }\n",
       "\n",
       "    .dataframe tbody tr th {\n",
       "        vertical-align: top;\n",
       "    }\n",
       "\n",
       "    .dataframe thead th {\n",
       "        text-align: right;\n",
       "    }\n",
       "</style>\n",
       "<table border=\"1\" class=\"dataframe\">\n",
       "  <thead>\n",
       "    <tr style=\"text-align: right;\">\n",
       "      <th></th>\n",
       "      <th>age</th>\n",
       "      <th>annual_income</th>\n",
       "    </tr>\n",
       "  </thead>\n",
       "  <tbody>\n",
       "    <tr>\n",
       "      <th>0</th>\n",
       "      <td>0.148785</td>\n",
       "      <td>0.185505</td>\n",
       "    </tr>\n",
       "    <tr>\n",
       "      <th>1</th>\n",
       "      <td>0.310982</td>\n",
       "      <td>0.567947</td>\n",
       "    </tr>\n",
       "    <tr>\n",
       "      <th>2</th>\n",
       "      <td>0.717566</td>\n",
       "      <td>0.312699</td>\n",
       "    </tr>\n",
       "  </tbody>\n",
       "</table>\n",
       "</div>"
      ],
      "text/plain": [
       "        age  annual_income\n",
       "0  0.148785       0.185505\n",
       "1  0.310982       0.567947\n",
       "2  0.717566       0.312699"
      ]
     },
     "execution_count": 28,
     "metadata": {},
     "output_type": "execute_result"
    }
   ],
   "source": [
    "# Make a dataframe of scaled centroids\n",
    "centroids_scaled = pd.DataFrame(kmeans.cluster_centers_, columns=X.columns)\n",
    "centroids_scaled"
   ]
  },
  {
   "cell_type": "markdown",
   "metadata": {},
   "source": [
    "## Determine which K is best"
   ]
  },
  {
   "cell_type": "code",
   "execution_count": 29,
   "metadata": {},
   "outputs": [],
   "source": [
    "#identify X\n",
    "X = df[['age', 'annual_income']]\n",
    "\n",
    "#fit the model\n",
    "scaler = StandardScaler().fit(X)\n",
    "\n",
    "#transform the model\n",
    "X_scaled = pd.DataFrame(scaler.transform(X), columns= X.columns).set_index([X.index.values])"
   ]
  },
  {
   "cell_type": "code",
   "execution_count": 30,
   "metadata": {},
   "outputs": [
    {
     "data": {
      "text/plain": [
       "250.58811570754705"
      ]
     },
     "execution_count": 30,
     "metadata": {},
     "output_type": "execute_result"
    }
   ],
   "source": [
    "#with k of 2 the inertia is 250\n",
    "k =2 \n",
    "\n",
    "kmeans = KMeans(n_clusters= k)\n",
    "kmeans.fit(X_scaled)\n",
    "kmeans.inertia_"
   ]
  },
  {
   "cell_type": "code",
   "execution_count": 31,
   "metadata": {},
   "outputs": [
    {
     "data": {
      "text/plain": [
       "132.8553042122192"
      ]
     },
     "execution_count": 31,
     "metadata": {},
     "output_type": "execute_result"
    }
   ],
   "source": [
    "#with k of 3 the inertia is 132\n",
    "#very large drop off, nearly half\n",
    "k =3 \n",
    "\n",
    "kmeans = KMeans(n_clusters= k)\n",
    "kmeans.fit(X_scaled)\n",
    "kmeans.inertia_"
   ]
  },
  {
   "cell_type": "code",
   "execution_count": 32,
   "metadata": {},
   "outputs": [
    {
     "data": {
      "text/plain": [
       "103.04951818194567"
      ]
     },
     "execution_count": 32,
     "metadata": {},
     "output_type": "execute_result"
    }
   ],
   "source": [
    "#with k of 4 the inertia is 103\n",
    "#still a large drop off but not AS much\n",
    "k =4 \n",
    "\n",
    "kmeans = KMeans(n_clusters= k)\n",
    "kmeans.fit(X_scaled)\n",
    "kmeans.inertia_"
   ]
  },
  {
   "cell_type": "code",
   "execution_count": 33,
   "metadata": {},
   "outputs": [
    {
     "data": {
      "image/png": "[encoded data removed]",
      "text/plain": [
       "<Figure size 648x432 with 1 Axes>"
      ]
     },
     "metadata": {},
     "output_type": "display_data"
    }
   ],
   "source": [
    "# lets plot inertia vs k\n",
    "#lot inertia with k from 2-11\n",
    "with plt.style.context('seaborn-whitegrid'):\n",
    "    plt.figure(figsize=(9, 6))\n",
    "    pd.Series({k: KMeans(k).fit(X_scaled).inertia_ for k in range(2, 12)}).plot(marker='x')\n",
    "    plt.xticks(range(2, 12))\n",
    "    plt.xlabel('k')\n",
    "    plt.ylabel('inertia')\n",
    "    plt.title('Change in inertia as k increases')\n",
    "    \n",
    "#this is subjective.\n",
    "#when the drop off stopswe would chose that K"
   ]
  },
  {
   "cell_type": "code",
   "execution_count": 34,
   "metadata": {},
   "outputs": [
    {
     "data": {
      "image/png": "[encoded data removed]",
      "text/plain": [
       "<Figure size 1008x648 with 1 Axes>"
      ]
     },
     "metadata": {
      "needs_background": "light"
     },
     "output_type": "display_data"
    }
   ],
   "source": [
    "# lets visualize the clusters along with the centers on scaled data.\n",
    "plt.figure(figsize=(14, 9))\n",
    "\n",
    "# scatter plot of data with hue for cluster\n",
    "sns.scatterplot(x='age', y='annual_income', data=df, hue = 'cluster')\n",
    "\n",
    "# plot cluster centers (centroids)\n",
    "#unscaled data\n",
    "centroids.plot.scatter(x='age', y='annual_income', ax=plt.gca(), s=600, color='k', alpha = 0.3, label='centroids')\n",
    "\n",
    "plt.title('Visualizing Cluster Centers')\n",
    "plt.legend();"
   ]
  },
  {
   "cell_type": "code",
   "execution_count": 35,
   "metadata": {},
   "outputs": [],
   "source": [
    "# use the function to create clusters\n",
    "df, X_scaled, scaler, kmeans, centroids = wrangle.create_cluster(df, X, 5)"
   ]
  },
  {
   "cell_type": "code",
   "execution_count": 62,
   "metadata": {},
   "outputs": [
    {
     "data": {
      "text/plain": [
       "<Figure size 1008x648 with 0 Axes>"
      ]
     },
     "metadata": {},
     "output_type": "display_data"
    },
    {
     "data": {
      "image/png": "[encoded data removed]",
      "text/plain": [
       "<Figure size 441.5x360 with 1 Axes>"
      ]
     },
     "metadata": {
      "needs_background": "light"
     },
     "output_type": "display_data"
    }
   ],
   "source": [
    "# scatter plot of data with hue for cluster\n",
    "\n",
    "plt.figure(figsize=(14, 9))\n",
    "sns.relplot(x = 'annual_income', y = 'spending_score', data = df, hue = 'cluster')\n",
    "plt.title('Annual income vs Spending Score');"
   ]
  },
  {
   "cell_type": "markdown",
   "metadata": {},
   "source": [
    "#### Takeaways:\n",
    "- k = 5 appears to be the best choice\n",
    "- cluster 0: appears to be middle income with spending score that varies greatly\n",
    "- cluster 1: lowest annual income and wide range of spending score\n",
    "- cluster 2: annual income from ~20K to ~45K, spending score only up to 60 or so\n",
    "- cluster 3: highest income (~100-140K), wide spending score\n",
    "- cluster 4: middle income wide range of spending"
   ]
  },
  {
   "cell_type": "markdown",
   "metadata": {},
   "source": [
    "<hr style=\"border:2px solid black\"> </hr>"
   ]
  },
  {
   "cell_type": "markdown",
   "metadata": {},
   "source": [
    "### #3 How does scaling impact the results of clustering?\n",
    "- Compare k-means clustering results on scaled and unscaled data (you can choose any dataset for this exercise OR use the data/steps outlined in the bonus below). You can show how the resulting clusters differ either with descriptive statistics or visually."
   ]
  },
  {
   "cell_type": "markdown",
   "metadata": {},
   "source": [
    "- b) Visualize the data and guess the number and shape of the clusters.\n",
    "- c) Implement the KMeans algorithm on unscaled data and visualize the clusters.\n",
    "- d) Repeat the step above but with scaled data. \n",
    "- c) Write down the takeaways from this exercise."
   ]
  },
  {
   "cell_type": "markdown",
   "metadata": {},
   "source": [
    "__________________"
   ]
  },
  {
   "cell_type": "code",
   "execution_count": 36,
   "metadata": {
    "scrolled": true
   },
   "outputs": [
    {
     "data": {
      "text/html": [
       "<div>\n",
       "<style scoped>\n",
       "    .dataframe tbody tr th:only-of-type {\n",
       "        vertical-align: middle;\n",
       "    }\n",
       "\n",
       "    .dataframe tbody tr th {\n",
       "        vertical-align: top;\n",
       "    }\n",
       "\n",
       "    .dataframe thead th {\n",
       "        text-align: right;\n",
       "    }\n",
       "</style>\n",
       "<table border=\"1\" class=\"dataframe\">\n",
       "  <thead>\n",
       "    <tr style=\"text-align: right;\">\n",
       "      <th></th>\n",
       "      <th>manufacturer</th>\n",
       "      <th>model</th>\n",
       "      <th>displ</th>\n",
       "      <th>year</th>\n",
       "      <th>cyl</th>\n",
       "      <th>trans</th>\n",
       "      <th>drv</th>\n",
       "      <th>cty</th>\n",
       "      <th>hwy</th>\n",
       "      <th>fl</th>\n",
       "      <th>class</th>\n",
       "    </tr>\n",
       "  </thead>\n",
       "  <tbody>\n",
       "    <tr>\n",
       "      <th>1</th>\n",
       "      <td>audi</td>\n",
       "      <td>a4</td>\n",
       "      <td>1.8</td>\n",
       "      <td>1999</td>\n",
       "      <td>4</td>\n",
       "      <td>auto(l5)</td>\n",
       "      <td>f</td>\n",
       "      <td>18</td>\n",
       "      <td>29</td>\n",
       "      <td>p</td>\n",
       "      <td>compact</td>\n",
       "    </tr>\n",
       "    <tr>\n",
       "      <th>2</th>\n",
       "      <td>audi</td>\n",
       "      <td>a4</td>\n",
       "      <td>1.8</td>\n",
       "      <td>1999</td>\n",
       "      <td>4</td>\n",
       "      <td>manual(m5)</td>\n",
       "      <td>f</td>\n",
       "      <td>21</td>\n",
       "      <td>29</td>\n",
       "      <td>p</td>\n",
       "      <td>compact</td>\n",
       "    </tr>\n",
       "    <tr>\n",
       "      <th>3</th>\n",
       "      <td>audi</td>\n",
       "      <td>a4</td>\n",
       "      <td>2.0</td>\n",
       "      <td>2008</td>\n",
       "      <td>4</td>\n",
       "      <td>manual(m6)</td>\n",
       "      <td>f</td>\n",
       "      <td>20</td>\n",
       "      <td>31</td>\n",
       "      <td>p</td>\n",
       "      <td>compact</td>\n",
       "    </tr>\n",
       "    <tr>\n",
       "      <th>4</th>\n",
       "      <td>audi</td>\n",
       "      <td>a4</td>\n",
       "      <td>2.0</td>\n",
       "      <td>2008</td>\n",
       "      <td>4</td>\n",
       "      <td>auto(av)</td>\n",
       "      <td>f</td>\n",
       "      <td>21</td>\n",
       "      <td>30</td>\n",
       "      <td>p</td>\n",
       "      <td>compact</td>\n",
       "    </tr>\n",
       "    <tr>\n",
       "      <th>5</th>\n",
       "      <td>audi</td>\n",
       "      <td>a4</td>\n",
       "      <td>2.8</td>\n",
       "      <td>1999</td>\n",
       "      <td>6</td>\n",
       "      <td>auto(l5)</td>\n",
       "      <td>f</td>\n",
       "      <td>16</td>\n",
       "      <td>26</td>\n",
       "      <td>p</td>\n",
       "      <td>compact</td>\n",
       "    </tr>\n",
       "  </tbody>\n",
       "</table>\n",
       "</div>"
      ],
      "text/plain": [
       "  manufacturer model  displ  year  cyl       trans drv  cty  hwy fl    class\n",
       "1         audi    a4    1.8  1999    4    auto(l5)   f   18   29  p  compact\n",
       "2         audi    a4    1.8  1999    4  manual(m5)   f   21   29  p  compact\n",
       "3         audi    a4    2.0  2008    4  manual(m6)   f   20   31  p  compact\n",
       "4         audi    a4    2.0  2008    4    auto(av)   f   21   30  p  compact\n",
       "5         audi    a4    2.8  1999    6    auto(l5)   f   16   26  p  compact"
      ]
     },
     "execution_count": 36,
     "metadata": {},
     "output_type": "execute_result"
    }
   ],
   "source": [
    "# import data\n",
    "mpg = data('mpg')\n",
    "\n",
    "#take a look at the data\n",
    "mpg.head()"
   ]
  },
  {
   "cell_type": "code",
   "execution_count": 37,
   "metadata": {
    "scrolled": true
   },
   "outputs": [
    {
     "name": "stdout",
     "output_type": "stream",
     "text": [
      "=================================================\n",
      "Dataframe head: \n",
      "  manufacturer model  displ  year  cyl       trans drv  cty  hwy fl    class\n",
      "1         audi    a4    1.8  1999    4    auto(l5)   f   18   29  p  compact\n",
      "2         audi    a4    1.8  1999    4  manual(m5)   f   21   29  p  compact\n",
      "3         audi    a4    2.0  2008    4  manual(m6)   f   20   31  p  compact\n",
      "=================================================\n",
      "Dataframe info: \n",
      "<class 'pandas.core.frame.DataFrame'>\n",
      "Int64Index: 234 entries, 1 to 234\n",
      "Data columns (total 11 columns):\n",
      " #   Column        Non-Null Count  Dtype  \n",
      "---  ------        --------------  -----  \n",
      " 0   manufacturer  234 non-null    object \n",
      " 1   model         234 non-null    object \n",
      " 2   displ         234 non-null    float64\n",
      " 3   year          234 non-null    int64  \n",
      " 4   cyl           234 non-null    int64  \n",
      " 5   trans         234 non-null    object \n",
      " 6   drv           234 non-null    object \n",
      " 7   cty           234 non-null    int64  \n",
      " 8   hwy           234 non-null    int64  \n",
      " 9   fl            234 non-null    object \n",
      " 10  class         234 non-null    object \n",
      "dtypes: float64(1), int64(4), object(6)\n",
      "memory usage: 21.9+ KB\n",
      "None\n",
      "=================================================\n",
      "DataFrame Description\n",
      "            displ         year         cyl         cty         hwy\n",
      "count  234.000000   234.000000  234.000000  234.000000  234.000000\n",
      "mean     3.471795  2003.500000    5.888889   16.858974   23.440171\n",
      "std      1.291959     4.509646    1.611534    4.255946    5.954643\n",
      "min      1.600000  1999.000000    4.000000    9.000000   12.000000\n",
      "25%      2.400000  1999.000000    4.000000   14.000000   18.000000\n",
      "50%      3.300000  2003.500000    6.000000   17.000000   24.000000\n",
      "75%      4.600000  2008.000000    8.000000   19.000000   27.000000\n",
      "max      7.000000  2008.000000    8.000000   35.000000   44.000000\n",
      "=================================================\n",
      "Dataframe value counts: \n",
      "dodge         37\n",
      "toyota        34\n",
      "volkswagen    27\n",
      "ford          25\n",
      "chevrolet     19\n",
      "audi          18\n",
      "subaru        14\n",
      "hyundai       14\n",
      "nissan        13\n",
      "honda          9\n",
      "jeep           8\n",
      "pontiac        5\n",
      "mercury        4\n",
      "land rover     4\n",
      "lincoln        3\n",
      "Name: manufacturer, dtype: int64\n",
      "caravan 2wd               11\n",
      "ram 1500 pickup 4wd       10\n",
      "mustang                    9\n",
      "civic                      9\n",
      "dakota pickup 4wd          9\n",
      "jetta                      9\n",
      "a4 quattro                 8\n",
      "impreza awd                8\n",
      "grand cherokee 4wd         8\n",
      "f150 pickup 4wd            7\n",
      "passat                     7\n",
      "durango 4wd                7\n",
      "camry solara               7\n",
      "toyota tacoma 4wd          7\n",
      "sonata                     7\n",
      "a4                         7\n",
      "tiburon                    7\n",
      "camry                      7\n",
      "altima                     6\n",
      "explorer 4wd               6\n",
      "new beetle                 6\n",
      "4runner 4wd                6\n",
      "forester awd               6\n",
      "corolla                    5\n",
      "c1500 suburban 2wd         5\n",
      "gti                        5\n",
      "grand prix                 5\n",
      "malibu                     5\n",
      "corvette                   5\n",
      "mountaineer 4wd            4\n",
      "pathfinder 4wd             4\n",
      "range rover                4\n",
      "k1500 tahoe 4wd            4\n",
      "navigator 2wd              3\n",
      "a6 quattro                 3\n",
      "expedition 2wd             3\n",
      "maxima                     3\n",
      "land cruiser wagon 4wd     2\n",
      "Name: model, dtype: int64\n",
      "(1.594, 2.14]    43\n",
      "(2.14, 2.68]     39\n",
      "(2.68, 3.22]     32\n",
      "(3.22, 3.76]     23\n",
      "(3.76, 4.3]      30\n",
      "(4.3, 4.84]      29\n",
      "(4.84, 5.38]     13\n",
      "(5.38, 5.92]     19\n",
      "(5.92, 6.46]      4\n",
      "(6.46, 7.0]       2\n",
      "Name: displ, dtype: int64\n",
      "(1998.99, 1999.9]    117\n",
      "(1999.9, 2000.8]       0\n",
      "(2000.8, 2001.7]       0\n",
      "(2001.7, 2002.6]       0\n",
      "(2002.6, 2003.5]       0\n",
      "(2003.5, 2004.4]       0\n",
      "(2004.4, 2005.3]       0\n",
      "(2005.3, 2006.2]       0\n",
      "(2006.2, 2007.1]       0\n",
      "(2007.1, 2008.0]     117\n",
      "Name: year, dtype: int64\n",
      "(3.995, 4.4]    81\n",
      "(4.4, 4.8]       0\n",
      "(4.8, 5.2]       4\n",
      "(5.2, 5.6]       0\n",
      "(5.6, 6.0]      79\n",
      "(6.0, 6.4]       0\n",
      "(6.4, 6.8]       0\n",
      "(6.8, 7.2]       0\n",
      "(7.2, 7.6]       0\n",
      "(7.6, 8.0]      70\n",
      "Name: cyl, dtype: int64\n",
      "auto(l4)      83\n",
      "manual(m5)    58\n",
      "auto(l5)      39\n",
      "manual(m6)    19\n",
      "auto(s6)      16\n",
      "auto(l6)       6\n",
      "auto(av)       5\n",
      "auto(s4)       3\n",
      "auto(s5)       3\n",
      "auto(l3)       2\n",
      "Name: trans, dtype: int64\n",
      "f    106\n",
      "4    103\n",
      "r     25\n",
      "Name: drv, dtype: int64\n",
      "(8.973, 11.6]    25\n",
      "(11.6, 14.2]     48\n",
      "(14.2, 16.8]     43\n",
      "(16.8, 19.4]     62\n",
      "(19.4, 22.0]     38\n",
      "(22.0, 24.6]      8\n",
      "(24.6, 27.2]      5\n",
      "(27.2, 29.8]      3\n",
      "(29.8, 32.4]      0\n",
      "(32.4, 35.0]      2\n",
      "Name: cty, dtype: int64\n",
      "(11.967, 15.2]    17\n",
      "(15.2, 18.4]      48\n",
      "(18.4, 21.6]      26\n",
      "(21.6, 24.8]      27\n",
      "(24.8, 28.0]      68\n",
      "(28.0, 31.2]      33\n",
      "(31.2, 34.4]       7\n",
      "(34.4, 37.6]       5\n",
      "(37.6, 40.8]       0\n",
      "(40.8, 44.0]       3\n",
      "Name: hwy, dtype: int64\n",
      "r    168\n",
      "p     52\n",
      "e      8\n",
      "d      5\n",
      "c      1\n",
      "Name: fl, dtype: int64\n",
      "suv           62\n",
      "compact       47\n",
      "midsize       41\n",
      "subcompact    35\n",
      "pickup        33\n",
      "minivan       11\n",
      "2seater        5\n",
      "Name: class, dtype: int64\n",
      "=================================================\n",
      "nulls in dataframe by column: \n",
      "              num_rows_missing  pct_rows_missing\n",
      "manufacturer                 0               0.0\n",
      "model                        0               0.0\n",
      "displ                        0               0.0\n",
      "year                         0               0.0\n",
      "cyl                          0               0.0\n",
      "trans                        0               0.0\n",
      "drv                          0               0.0\n",
      "cty                          0               0.0\n",
      "hwy                          0               0.0\n",
      "fl                           0               0.0\n",
      "class                        0               0.0\n",
      "=================================================\n",
      "nulls in dataframe by row: \n",
      "  num_cols_missing pct_cols_missing  num_rows\n",
      "0                0              0.0       234\n",
      "=================================================\n"
     ]
    }
   ],
   "source": [
    "summary = wrangle.summarize(mpg)"
   ]
  },
  {
   "cell_type": "code",
   "execution_count": 38,
   "metadata": {},
   "outputs": [
    {
     "data": {
      "text/html": [
       "<div>\n",
       "<style scoped>\n",
       "    .dataframe tbody tr th:only-of-type {\n",
       "        vertical-align: middle;\n",
       "    }\n",
       "\n",
       "    .dataframe tbody tr th {\n",
       "        vertical-align: top;\n",
       "    }\n",
       "\n",
       "    .dataframe thead th {\n",
       "        text-align: right;\n",
       "    }\n",
       "</style>\n",
       "<table border=\"1\" class=\"dataframe\">\n",
       "  <thead>\n",
       "    <tr style=\"text-align: right;\">\n",
       "      <th></th>\n",
       "      <th>cty</th>\n",
       "      <th>hwy</th>\n",
       "    </tr>\n",
       "  </thead>\n",
       "  <tbody>\n",
       "    <tr>\n",
       "      <th>1</th>\n",
       "      <td>18</td>\n",
       "      <td>29</td>\n",
       "    </tr>\n",
       "    <tr>\n",
       "      <th>2</th>\n",
       "      <td>21</td>\n",
       "      <td>29</td>\n",
       "    </tr>\n",
       "    <tr>\n",
       "      <th>3</th>\n",
       "      <td>20</td>\n",
       "      <td>31</td>\n",
       "    </tr>\n",
       "    <tr>\n",
       "      <th>4</th>\n",
       "      <td>21</td>\n",
       "      <td>30</td>\n",
       "    </tr>\n",
       "    <tr>\n",
       "      <th>5</th>\n",
       "      <td>16</td>\n",
       "      <td>26</td>\n",
       "    </tr>\n",
       "  </tbody>\n",
       "</table>\n",
       "</div>"
      ],
      "text/plain": [
       "   cty  hwy\n",
       "1   18   29\n",
       "2   21   29\n",
       "3   20   31\n",
       "4   21   30\n",
       "5   16   26"
      ]
     },
     "execution_count": 38,
     "metadata": {},
     "output_type": "execute_result"
    }
   ],
   "source": [
    "# define independent variables for k-means\n",
    "X = mpg[['cty', 'hwy']]\n",
    "\n",
    "#take a look at X only\n",
    "X.head()"
   ]
  },
  {
   "cell_type": "code",
   "execution_count": 39,
   "metadata": {},
   "outputs": [
    {
     "data": {
      "image/png": "[encoded data removed]",
      "text/plain": [
       "<Figure size 432x288 with 2 Axes>"
      ]
     },
     "metadata": {
      "needs_background": "light"
     },
     "output_type": "display_data"
    }
   ],
   "source": [
    "#take a look at distribution to decide what scaler to use\n",
    "#these are basically normal\n",
    "X.hist()\n",
    "plt.show()"
   ]
  },
  {
   "cell_type": "markdown",
   "metadata": {},
   "source": [
    "__________________"
   ]
  },
  {
   "cell_type": "code",
   "execution_count": 40,
   "metadata": {},
   "outputs": [],
   "source": [
    "# Scale the X\n",
    "from sklearn.preprocessing import StandardScaler\n",
    "\n",
    "#fit on X\n",
    "scaler = StandardScaler().fit(X)\n",
    "\n",
    "#transform on X\n",
    "X_scaled = pd.DataFrame(scaler.transform(X), columns= X.columns).set_index([X.index.values])"
   ]
  },
  {
   "cell_type": "code",
   "execution_count": 41,
   "metadata": {},
   "outputs": [
    {
     "data": {
      "text/plain": [
       "array([0, 0, 0, 0, 0, 0, 0, 0, 0, 0, 0, 0, 0, 0, 0, 0, 0, 0, 1, 1, 1, 1,\n",
       "       1, 0, 0, 0, 0, 0, 1, 1, 1, 1, 0, 0, 0, 0, 0, 0, 0, 0, 0, 0, 0, 1,\n",
       "       1, 1, 0, 0, 1, 1, 1, 1, 1, 1, 1, 1, 1, 1, 1, 1, 1, 1, 1, 1, 1, 1,\n",
       "       1, 1, 1, 1, 1, 1, 1, 1, 1, 1, 1, 1, 1, 1, 1, 1, 1, 1, 1, 1, 1, 1,\n",
       "       1, 1, 0, 0, 0, 0, 1, 1, 0, 1, 1, 2, 2, 2, 0, 2, 2, 2, 2, 0, 0, 0,\n",
       "       0, 0, 0, 0, 0, 0, 0, 0, 0, 0, 0, 0, 0, 1, 1, 1, 1, 1, 1, 1, 1, 1,\n",
       "       1, 1, 1, 1, 1, 1, 1, 1, 1, 0, 0, 2, 2, 0, 0, 0, 0, 0, 1, 1, 1, 1,\n",
       "       0, 0, 0, 0, 0, 0, 0, 0, 0, 0, 0, 0, 0, 0, 0, 0, 0, 0, 0, 1, 1, 1,\n",
       "       1, 1, 1, 0, 0, 0, 0, 0, 0, 0, 0, 0, 0, 0, 0, 0, 0, 2, 2, 2, 2, 2,\n",
       "       1, 1, 1, 1, 0, 1, 1, 1, 1, 0, 0, 0, 0, 0, 2, 0, 0, 0, 0, 0, 0, 0,\n",
       "       0, 2, 2, 0, 0, 0, 0, 0, 0, 0, 0, 0, 0, 0], dtype=int32)"
      ]
     },
     "execution_count": 41,
     "metadata": {},
     "output_type": "execute_result"
    }
   ],
   "source": [
    "# sklearn implementation of KMeans\n",
    "\n",
    "#define the thing/ choosing 3 clusters\n",
    "kmeans = KMeans(n_clusters=3, random_state = 123)\n",
    "\n",
    "# fit the thing on X_scaled\n",
    "kmeans.fit(X_scaled)\n",
    "\n",
    "# Use (predict using) the thing\n",
    "#which clusters correspond to each datapoint\n",
    "kmeans.predict(X_scaled)"
   ]
  },
  {
   "cell_type": "code",
   "execution_count": 42,
   "metadata": {},
   "outputs": [],
   "source": [
    "# make a new column names cluster in iris and X_scaled dataframe\n",
    "mpg['cluster'] =kmeans.predict(X_scaled)\n",
    "X_scaled['cluster'] = kmeans.predict(X_scaled)"
   ]
  },
  {
   "cell_type": "code",
   "execution_count": 43,
   "metadata": {},
   "outputs": [
    {
     "data": {
      "text/html": [
       "<div>\n",
       "<style scoped>\n",
       "    .dataframe tbody tr th:only-of-type {\n",
       "        vertical-align: middle;\n",
       "    }\n",
       "\n",
       "    .dataframe tbody tr th {\n",
       "        vertical-align: top;\n",
       "    }\n",
       "\n",
       "    .dataframe thead th {\n",
       "        text-align: right;\n",
       "    }\n",
       "</style>\n",
       "<table border=\"1\" class=\"dataframe\">\n",
       "  <thead>\n",
       "    <tr style=\"text-align: right;\">\n",
       "      <th></th>\n",
       "      <th>cty</th>\n",
       "      <th>hwy</th>\n",
       "    </tr>\n",
       "    <tr>\n",
       "      <th>cluster</th>\n",
       "      <th></th>\n",
       "      <th></th>\n",
       "    </tr>\n",
       "  </thead>\n",
       "  <tbody>\n",
       "    <tr>\n",
       "      <th>0</th>\n",
       "      <td>18.528455</td>\n",
       "      <td>26.471545</td>\n",
       "    </tr>\n",
       "    <tr>\n",
       "      <th>1</th>\n",
       "      <td>12.968085</td>\n",
       "      <td>17.361702</td>\n",
       "    </tr>\n",
       "    <tr>\n",
       "      <th>2</th>\n",
       "      <td>26.294118</td>\n",
       "      <td>35.117647</td>\n",
       "    </tr>\n",
       "  </tbody>\n",
       "</table>\n",
       "</div>"
      ],
      "text/plain": [
       "               cty        hwy\n",
       "cluster                      \n",
       "0        18.528455  26.471545\n",
       "1        12.968085  17.361702\n",
       "2        26.294118  35.117647"
      ]
     },
     "execution_count": 43,
     "metadata": {},
     "output_type": "execute_result"
    }
   ],
   "source": [
    "# DataFrame of unscaled Centriods\n",
    "#group by clusters. mean of sepal and petal length.\n",
    "centroids = mpg.groupby('cluster')['cty', 'hwy'].mean()\n",
    "centroids\n",
    "\n",
    "#this will correspond with scatterplot- unscaled data"
   ]
  },
  {
   "cell_type": "code",
   "execution_count": 44,
   "metadata": {
    "scrolled": true
   },
   "outputs": [
    {
     "data": {
      "text/html": [
       "<div>\n",
       "<style scoped>\n",
       "    .dataframe tbody tr th:only-of-type {\n",
       "        vertical-align: middle;\n",
       "    }\n",
       "\n",
       "    .dataframe tbody tr th {\n",
       "        vertical-align: top;\n",
       "    }\n",
       "\n",
       "    .dataframe thead th {\n",
       "        text-align: right;\n",
       "    }\n",
       "</style>\n",
       "<table border=\"1\" class=\"dataframe\">\n",
       "  <thead>\n",
       "    <tr style=\"text-align: right;\">\n",
       "      <th></th>\n",
       "      <th>manufacturer</th>\n",
       "      <th>model</th>\n",
       "      <th>displ</th>\n",
       "      <th>year</th>\n",
       "      <th>cyl</th>\n",
       "      <th>trans</th>\n",
       "      <th>drv</th>\n",
       "      <th>cty</th>\n",
       "      <th>hwy</th>\n",
       "      <th>fl</th>\n",
       "      <th>class</th>\n",
       "      <th>cluster</th>\n",
       "    </tr>\n",
       "  </thead>\n",
       "  <tbody>\n",
       "    <tr>\n",
       "      <th>1</th>\n",
       "      <td>audi</td>\n",
       "      <td>a4</td>\n",
       "      <td>1.8</td>\n",
       "      <td>1999</td>\n",
       "      <td>4</td>\n",
       "      <td>auto(l5)</td>\n",
       "      <td>f</td>\n",
       "      <td>18</td>\n",
       "      <td>29</td>\n",
       "      <td>p</td>\n",
       "      <td>compact</td>\n",
       "      <td>cluster_0</td>\n",
       "    </tr>\n",
       "    <tr>\n",
       "      <th>2</th>\n",
       "      <td>audi</td>\n",
       "      <td>a4</td>\n",
       "      <td>1.8</td>\n",
       "      <td>1999</td>\n",
       "      <td>4</td>\n",
       "      <td>manual(m5)</td>\n",
       "      <td>f</td>\n",
       "      <td>21</td>\n",
       "      <td>29</td>\n",
       "      <td>p</td>\n",
       "      <td>compact</td>\n",
       "      <td>cluster_0</td>\n",
       "    </tr>\n",
       "    <tr>\n",
       "      <th>3</th>\n",
       "      <td>audi</td>\n",
       "      <td>a4</td>\n",
       "      <td>2.0</td>\n",
       "      <td>2008</td>\n",
       "      <td>4</td>\n",
       "      <td>manual(m6)</td>\n",
       "      <td>f</td>\n",
       "      <td>20</td>\n",
       "      <td>31</td>\n",
       "      <td>p</td>\n",
       "      <td>compact</td>\n",
       "      <td>cluster_0</td>\n",
       "    </tr>\n",
       "    <tr>\n",
       "      <th>4</th>\n",
       "      <td>audi</td>\n",
       "      <td>a4</td>\n",
       "      <td>2.0</td>\n",
       "      <td>2008</td>\n",
       "      <td>4</td>\n",
       "      <td>auto(av)</td>\n",
       "      <td>f</td>\n",
       "      <td>21</td>\n",
       "      <td>30</td>\n",
       "      <td>p</td>\n",
       "      <td>compact</td>\n",
       "      <td>cluster_0</td>\n",
       "    </tr>\n",
       "    <tr>\n",
       "      <th>5</th>\n",
       "      <td>audi</td>\n",
       "      <td>a4</td>\n",
       "      <td>2.8</td>\n",
       "      <td>1999</td>\n",
       "      <td>6</td>\n",
       "      <td>auto(l5)</td>\n",
       "      <td>f</td>\n",
       "      <td>16</td>\n",
       "      <td>26</td>\n",
       "      <td>p</td>\n",
       "      <td>compact</td>\n",
       "      <td>cluster_0</td>\n",
       "    </tr>\n",
       "  </tbody>\n",
       "</table>\n",
       "</div>"
      ],
      "text/plain": [
       "  manufacturer model  displ  year  cyl       trans drv  cty  hwy fl    class  \\\n",
       "1         audi    a4    1.8  1999    4    auto(l5)   f   18   29  p  compact   \n",
       "2         audi    a4    1.8  1999    4  manual(m5)   f   21   29  p  compact   \n",
       "3         audi    a4    2.0  2008    4  manual(m6)   f   20   31  p  compact   \n",
       "4         audi    a4    2.0  2008    4    auto(av)   f   21   30  p  compact   \n",
       "5         audi    a4    2.8  1999    6    auto(l5)   f   16   26  p  compact   \n",
       "\n",
       "     cluster  \n",
       "1  cluster_0  \n",
       "2  cluster_0  \n",
       "3  cluster_0  \n",
       "4  cluster_0  \n",
       "5  cluster_0  "
      ]
     },
     "execution_count": 44,
     "metadata": {},
     "output_type": "execute_result"
    }
   ],
   "source": [
    "#change the cluster column to a string to plot it better\n",
    "mpg['cluster'] = 'cluster_' +mpg.cluster.astype(str)\n",
    "mpg.head()"
   ]
  },
  {
   "cell_type": "markdown",
   "metadata": {},
   "source": [
    "<hr style=\"border:2px solid black\"> </hr>"
   ]
  },
  {
   "cell_type": "markdown",
   "metadata": {},
   "source": [
    "##### b) Visualize the data and guess the number and shape of the clusters."
   ]
  },
  {
   "cell_type": "code",
   "execution_count": 45,
   "metadata": {},
   "outputs": [
    {
     "data": {
      "image/png": "[encoded data removed]",
      "text/plain": [
       "<Figure size 432x288 with 1 Axes>"
      ]
     },
     "metadata": {
      "needs_background": "light"
     },
     "output_type": "display_data"
    }
   ],
   "source": [
    "sns.scatterplot(x='cty', y='hwy', data=mpg)\n",
    "plt.show()"
   ]
  },
  {
   "cell_type": "markdown",
   "metadata": {},
   "source": [
    "<hr style=\"border:2px solid black\"> </hr>"
   ]
  },
  {
   "cell_type": "markdown",
   "metadata": {},
   "source": [
    "##### c) Implement the KMeans algorithm on unscaled data and visualize the clusters."
   ]
  },
  {
   "cell_type": "markdown",
   "metadata": {},
   "source": [
    "## Unscaled data"
   ]
  },
  {
   "cell_type": "code",
   "execution_count": 46,
   "metadata": {},
   "outputs": [
    {
     "data": {
      "image/png": "[encoded data removed]",
      "text/plain": [
       "<Figure size 1008x648 with 1 Axes>"
      ]
     },
     "metadata": {
      "needs_background": "light"
     },
     "output_type": "display_data"
    }
   ],
   "source": [
    "# lets visualize the clusters along with the centers on scaled data.\n",
    "plt.figure(figsize=(14, 9))\n",
    "\n",
    "# scatter plot of data with hue for cluster\n",
    "sns.scatterplot(x='cty', y='hwy', data=mpg, hue = 'cluster')\n",
    "\n",
    "# plot cluster centers (centroids)\n",
    "#unscaled data\n",
    "centroids.plot.scatter(x='cty', y='hwy', ax=plt.gca(), s=600, color='k', alpha = 0.3, label='centroids')\n",
    "\n",
    "plt.title('Visualizing Cluster Centers')\n",
    "plt.legend();"
   ]
  },
  {
   "cell_type": "markdown",
   "metadata": {},
   "source": [
    "<hr style=\"border:2px solid black\"> </hr>"
   ]
  },
  {
   "cell_type": "markdown",
   "metadata": {},
   "source": [
    "##### d) Repeat the step above but with scaled data."
   ]
  },
  {
   "cell_type": "code",
   "execution_count": 47,
   "metadata": {},
   "outputs": [
    {
     "data": {
      "text/html": [
       "<div>\n",
       "<style scoped>\n",
       "    .dataframe tbody tr th:only-of-type {\n",
       "        vertical-align: middle;\n",
       "    }\n",
       "\n",
       "    .dataframe tbody tr th {\n",
       "        vertical-align: top;\n",
       "    }\n",
       "\n",
       "    .dataframe thead th {\n",
       "        text-align: right;\n",
       "    }\n",
       "</style>\n",
       "<table border=\"1\" class=\"dataframe\">\n",
       "  <thead>\n",
       "    <tr style=\"text-align: right;\">\n",
       "      <th></th>\n",
       "      <th>cty</th>\n",
       "      <th>hwy</th>\n",
       "    </tr>\n",
       "  </thead>\n",
       "  <tbody>\n",
       "    <tr>\n",
       "      <th>0</th>\n",
       "      <td>0.393111</td>\n",
       "      <td>0.510169</td>\n",
       "    </tr>\n",
       "    <tr>\n",
       "      <th>1</th>\n",
       "      <td>-0.916184</td>\n",
       "      <td>-1.022983</td>\n",
       "    </tr>\n",
       "    <tr>\n",
       "      <th>2</th>\n",
       "      <td>2.221685</td>\n",
       "      <td>1.965274</td>\n",
       "    </tr>\n",
       "  </tbody>\n",
       "</table>\n",
       "</div>"
      ],
      "text/plain": [
       "        cty       hwy\n",
       "0  0.393111  0.510169\n",
       "1 -0.916184 -1.022983\n",
       "2  2.221685  1.965274"
      ]
     },
     "execution_count": 47,
     "metadata": {},
     "output_type": "execute_result"
    }
   ],
   "source": [
    "# Make a dataframe of scaled centroids\n",
    "centroids_scaled = pd.DataFrame(kmeans.cluster_centers_, columns=X.columns)\n",
    "centroids_scaled"
   ]
  },
  {
   "cell_type": "code",
   "execution_count": 48,
   "metadata": {
    "scrolled": false
   },
   "outputs": [
    {
     "data": {
      "image/png": "[encoded data removed]",
      "text/plain": [
       "<Figure size 1008x648 with 1 Axes>"
      ]
     },
     "metadata": {
      "needs_background": "light"
     },
     "output_type": "display_data"
    }
   ],
   "source": [
    "# lets visualize the clusters along with the centers on scaled data.\n",
    "plt.figure(figsize=(14, 9))\n",
    "\n",
    "# scatter plot of data with hue for cluster\n",
    "sns.scatterplot(x='cty', y='hwy', data=X_scaled, hue = 'cluster')\n",
    "\n",
    "# plot cluster centers (centroids)\n",
    "#scaled data\n",
    "centroids_scaled.plot.scatter(x='cty', y='hwy', ax=plt.gca(), s=600, color='red', alpha = 0.3, label='centroids')\n",
    "\n",
    "plt.title('Visualizing Cluster Centers')\n",
    "plt.legend();"
   ]
  },
  {
   "cell_type": "markdown",
   "metadata": {},
   "source": [
    "<hr style=\"border:2px solid black\"> </hr>"
   ]
  },
  {
   "cell_type": "markdown",
   "metadata": {},
   "source": [
    "### Determine which K to use"
   ]
  },
  {
   "cell_type": "code",
   "execution_count": 49,
   "metadata": {},
   "outputs": [],
   "source": [
    "#identify X\n",
    "X = mpg[['hwy','cty']]\n",
    "from sklearn.preprocessing import StandardScaler\n",
    "\n",
    "#fit the model\n",
    "scaler = StandardScaler().fit(X)\n",
    "\n",
    "#transform the model\n",
    "X_scaled = pd.DataFrame(scaler.transform(X), columns= X.columns).set_index([X.index.values])"
   ]
  },
  {
   "cell_type": "code",
   "execution_count": 50,
   "metadata": {},
   "outputs": [
    {
     "data": {
      "text/plain": [
       "167.58424671840558"
      ]
     },
     "execution_count": 50,
     "metadata": {},
     "output_type": "execute_result"
    }
   ],
   "source": [
    "#with k of 2 the inertia is 167\n",
    "k =2 \n",
    "\n",
    "kmeans = KMeans(n_clusters= k)\n",
    "kmeans.fit(X_scaled)\n",
    "kmeans.inertia_"
   ]
  },
  {
   "cell_type": "code",
   "execution_count": 51,
   "metadata": {},
   "outputs": [
    {
     "data": {
      "text/plain": [
       "90.13599605641669"
      ]
     },
     "execution_count": 51,
     "metadata": {},
     "output_type": "execute_result"
    }
   ],
   "source": [
    "#with k of 3 the inertia is 90\n",
    "#very large drop off\n",
    "k =3 \n",
    "\n",
    "kmeans = KMeans(n_clusters= k)\n",
    "kmeans.fit(X_scaled)\n",
    "kmeans.inertia_"
   ]
  },
  {
   "cell_type": "code",
   "execution_count": 52,
   "metadata": {},
   "outputs": [
    {
     "data": {
      "text/plain": [
       "59.686891495895274"
      ]
     },
     "execution_count": 52,
     "metadata": {},
     "output_type": "execute_result"
    }
   ],
   "source": [
    "#with k of 4 the inertia is 59\n",
    "#still a large drop off but not AS much\n",
    "k =4 \n",
    "\n",
    "kmeans = KMeans(n_clusters= k)\n",
    "kmeans.fit(X_scaled)\n",
    "kmeans.inertia_"
   ]
  },
  {
   "cell_type": "code",
   "execution_count": 53,
   "metadata": {},
   "outputs": [
    {
     "data": {
      "image/png": "[encoded data removed]",
      "text/plain": [
       "<Figure size 648x432 with 1 Axes>"
      ]
     },
     "metadata": {},
     "output_type": "display_data"
    }
   ],
   "source": [
    "#lets plot inertia vs k\n",
    "#lot inertia with k from 2-11\n",
    "with plt.style.context('seaborn-whitegrid'):\n",
    "    plt.figure(figsize=(9, 6))\n",
    "    pd.Series({k: KMeans(k).fit(X_scaled).inertia_ for k in range(2, 12)}).plot(marker='x')\n",
    "    plt.xticks(range(2, 12))\n",
    "    plt.xlabel('k')\n",
    "    plt.ylabel('inertia')\n",
    "    plt.title('Change in inertia as k increases')\n",
    "    \n",
    "#this is subjective.\n",
    "#when the drop off stops we would chose that K"
   ]
  },
  {
   "cell_type": "markdown",
   "metadata": {},
   "source": [
    "<hr style=\"border:2px solid black\"> </hr>"
   ]
  },
  {
   "cell_type": "markdown",
   "metadata": {},
   "source": [
    "##### e) Write down the takeaways from this exercise."
   ]
  },
  {
   "cell_type": "code",
   "execution_count": 54,
   "metadata": {},
   "outputs": [],
   "source": [
    "#k=3 appears to be the best option\n",
    "#scaled data appears to have similarly placed centroids as unscaled data"
   ]
  },
  {
   "cell_type": "markdown",
   "metadata": {},
   "source": [
    "<hr style=\"border:3px solid red\"> </hr>"
   ]
  },
  {
   "cell_type": "markdown",
   "metadata": {},
   "source": [
    "### Bonus\n",
    "- a) Read in the data from this google sheet: https://docs.google.com/spreadsheets/d/1j5EgXVTR5ikUj3G5ZCQmkq6ziz_gvtASGAdw23-5_6M/edit?usp=sharing\n",
    "- b) Visualize the data and guess the number and shape of the clusters.\n",
    "- c) Implement the KMeans algorithm on unscaled data and visualize the clusters.\n",
    "- d) Repeat the step above but with scaled data. \n",
    "- e) Write down the takeaways from this exercise."
   ]
  },
  {
   "cell_type": "code",
   "execution_count": 55,
   "metadata": {},
   "outputs": [],
   "source": [
    "#import csv into pandas\n",
    "cluster_df = pd.read_csv('cluster_data.csv')"
   ]
  },
  {
   "cell_type": "code",
   "execution_count": 56,
   "metadata": {},
   "outputs": [
    {
     "name": "stdout",
     "output_type": "stream",
     "text": [
      "=================================================\n",
      "Dataframe head: \n",
      "          x         y\n",
      "0 -3.641747  0.121540\n",
      "1 -7.620447  1.810897\n",
      "2 -6.505373  0.068072\n",
      "=================================================\n",
      "Dataframe info: \n",
      "<class 'pandas.core.frame.DataFrame'>\n",
      "RangeIndex: 800 entries, 0 to 799\n",
      "Data columns (total 2 columns):\n",
      " #   Column  Non-Null Count  Dtype  \n",
      "---  ------  --------------  -----  \n",
      " 0   x       800 non-null    float64\n",
      " 1   y       800 non-null    float64\n",
      "dtypes: float64(2)\n",
      "memory usage: 12.6 KB\n",
      "None\n",
      "=================================================\n",
      "DataFrame Description\n",
      "                x           y\n",
      "count  800.000000  800.000000\n",
      "mean     0.508449    2.973206\n",
      "std      9.906209    3.156376\n",
      "min    -30.572062   -3.146259\n",
      "25%     -6.068600   -0.047636\n",
      "50%      0.581809    3.040642\n",
      "75%      7.579269    5.996474\n",
      "max     29.489457    8.817347\n",
      "=================================================\n",
      "Dataframe value counts: \n",
      "(-30.633000000000003, -24.566]      4\n",
      "(-24.566, -18.56]                  17\n",
      "(-18.56, -12.554]                  57\n",
      "(-12.554, -6.547]                 111\n",
      "(-6.547, -0.541]                  177\n",
      "(-0.541, 5.465]                   170\n",
      "(5.465, 11.471]                   164\n",
      "(11.471, 17.477]                   64\n",
      "(17.477, 23.483]                   30\n",
      "(23.483, 29.489]                    6\n",
      "Name: x, dtype: int64\n",
      "(-3.159, -1.95]      9\n",
      "(-1.95, -0.754]     82\n",
      "(-0.754, 0.443]    189\n",
      "(0.443, 1.639]     103\n",
      "(1.639, 2.836]      16\n",
      "(2.836, 4.032]      14\n",
      "(4.032, 5.228]      75\n",
      "(5.228, 6.425]     179\n",
      "(6.425, 7.621]     115\n",
      "(7.621, 8.817]      18\n",
      "Name: y, dtype: int64\n",
      "=================================================\n",
      "nulls in dataframe by column: \n",
      "   num_rows_missing  pct_rows_missing\n",
      "x                 0               0.0\n",
      "y                 0               0.0\n",
      "=================================================\n",
      "nulls in dataframe by row: \n",
      "  num_cols_missing pct_cols_missing  num_rows\n",
      "0                0              0.0       800\n",
      "=================================================\n"
     ]
    }
   ],
   "source": [
    "#take a look at the data with summarize function from wrangle.py\n",
    "summary = wrangle.summarize(cluster_df)"
   ]
  },
  {
   "cell_type": "markdown",
   "metadata": {},
   "source": [
    "________________"
   ]
  },
  {
   "cell_type": "markdown",
   "metadata": {},
   "source": [
    "##### b) Visualize the data and guess the number and shape of the clusters."
   ]
  },
  {
   "cell_type": "code",
   "execution_count": 57,
   "metadata": {},
   "outputs": [
    {
     "data": {
      "text/html": [
       "<div>\n",
       "<style scoped>\n",
       "    .dataframe tbody tr th:only-of-type {\n",
       "        vertical-align: middle;\n",
       "    }\n",
       "\n",
       "    .dataframe tbody tr th {\n",
       "        vertical-align: top;\n",
       "    }\n",
       "\n",
       "    .dataframe thead th {\n",
       "        text-align: right;\n",
       "    }\n",
       "</style>\n",
       "<table border=\"1\" class=\"dataframe\">\n",
       "  <thead>\n",
       "    <tr style=\"text-align: right;\">\n",
       "      <th></th>\n",
       "      <th>x</th>\n",
       "    </tr>\n",
       "  </thead>\n",
       "  <tbody>\n",
       "    <tr>\n",
       "      <th>0</th>\n",
       "      <td>-3.641747</td>\n",
       "    </tr>\n",
       "    <tr>\n",
       "      <th>1</th>\n",
       "      <td>-7.620447</td>\n",
       "    </tr>\n",
       "    <tr>\n",
       "      <th>2</th>\n",
       "      <td>-6.505373</td>\n",
       "    </tr>\n",
       "    <tr>\n",
       "      <th>3</th>\n",
       "      <td>7.730963</td>\n",
       "    </tr>\n",
       "    <tr>\n",
       "      <th>4</th>\n",
       "      <td>17.283668</td>\n",
       "    </tr>\n",
       "  </tbody>\n",
       "</table>\n",
       "</div>"
      ],
      "text/plain": [
       "           x\n",
       "0  -3.641747\n",
       "1  -7.620447\n",
       "2  -6.505373\n",
       "3   7.730963\n",
       "4  17.283668"
      ]
     },
     "execution_count": 57,
     "metadata": {},
     "output_type": "execute_result"
    }
   ],
   "source": [
    "# define independent variables for k-means\n",
    "X = cluster_df[['x']]\n",
    "\n",
    "#take a look at X only\n",
    "X.head()"
   ]
  },
  {
   "cell_type": "code",
   "execution_count": 58,
   "metadata": {},
   "outputs": [
    {
     "data": {
      "image/png": "[encoded data removed]",
      "text/plain": [
       "<Figure size 432x288 with 1 Axes>"
      ]
     },
     "metadata": {
      "needs_background": "light"
     },
     "output_type": "display_data"
    }
   ],
   "source": [
    "#take a look at distribution to decide what scaler to use\n",
    "#these is normal\n",
    "X.hist()\n",
    "plt.show()"
   ]
  },
  {
   "cell_type": "code",
   "execution_count": 59,
   "metadata": {},
   "outputs": [],
   "source": [
    "#fit on X\n",
    "scaler = StandardScaler().fit(X)\n",
    "\n",
    "#transform on X\n",
    "X_scaled = pd.DataFrame(scaler.transform(X), columns= X.columns).set_index([X.index.values])"
   ]
  },
  {
   "cell_type": "code",
   "execution_count": 60,
   "metadata": {},
   "outputs": [
    {
     "data": {
      "text/plain": [
       "array([2, 2, 2, 0, 0, 2, 2, 2, 1, 0, 2, 1, 0, 2, 2, 0, 0, 2, 0, 1, 2, 0,\n",
       "       1, 0, 0, 0, 0, 2, 2, 1, 0, 0, 1, 0, 2, 2, 2, 2, 0, 2, 2, 1, 0, 0,\n",
       "       2, 2, 0, 2, 2, 2, 2, 2, 2, 2, 2, 2, 0, 0, 2, 2, 2, 0, 0, 0, 2, 2,\n",
       "       2, 2, 1, 0, 0, 1, 1, 2, 2, 0, 2, 2, 1, 2, 1, 2, 0, 0, 2, 1, 2, 0,\n",
       "       1, 2, 1, 1, 2, 0, 0, 2, 0, 0, 2, 0, 0, 2, 2, 2, 2, 2, 2, 2, 2, 0,\n",
       "       1, 1, 0, 2, 1, 2, 2, 2, 2, 0, 2, 2, 2, 2, 0, 1, 2, 0, 2, 0, 1, 1,\n",
       "       2, 0, 2, 0, 2, 0, 2, 2, 1, 2, 2, 1, 2, 1, 2, 2, 1, 0, 0, 0, 1, 2,\n",
       "       0, 2, 0, 0, 1, 0, 0, 2, 0, 0, 1, 2, 0, 0, 2, 0, 0, 0, 0, 2, 0, 2,\n",
       "       2, 2, 2, 2, 0, 1, 0, 2, 2, 0, 1, 2, 0, 0, 0, 0, 2, 2, 0, 2, 2, 2,\n",
       "       2, 0, 2, 1, 2, 0, 0, 2, 2, 0, 0, 2, 1, 2, 2, 2, 2, 0, 1, 2, 1, 0,\n",
       "       2, 1, 0, 0, 1, 1, 0, 2, 0, 2, 2, 0, 2, 2, 0, 0, 0, 0, 2, 0, 1, 2,\n",
       "       0, 0, 1, 1, 2, 2, 2, 2, 2, 0, 0, 0, 0, 1, 2, 1, 1, 2, 0, 0, 0, 2,\n",
       "       2, 0, 2, 0, 0, 0, 2, 2, 0, 2, 0, 2, 2, 0, 2, 1, 2, 1, 2, 2, 1, 2,\n",
       "       2, 2, 0, 2, 0, 2, 1, 0, 2, 2, 0, 1, 1, 2, 0, 0, 1, 2, 0, 2, 0, 0,\n",
       "       0, 0, 2, 1, 2, 2, 2, 0, 2, 0, 0, 2, 2, 2, 0, 1, 0, 0, 0, 2, 0, 0,\n",
       "       0, 0, 1, 2, 2, 0, 1, 1, 2, 2, 1, 1, 0, 2, 0, 0, 0, 2, 0, 0, 1, 2,\n",
       "       0, 1, 0, 0, 0, 2, 0, 2, 2, 0, 2, 2, 0, 2, 0, 2, 1, 2, 2, 2, 2, 2,\n",
       "       2, 0, 2, 0, 1, 1, 0, 2, 1, 0, 2, 2, 2, 1, 2, 0, 1, 2, 1, 2, 2, 2,\n",
       "       2, 0, 2, 1, 2, 2, 2, 2, 2, 1, 2, 0, 0, 2, 2, 1, 2, 0, 2, 2, 2, 1,\n",
       "       0, 0, 2, 0, 2, 0, 2, 0, 2, 1, 1, 2, 2, 0, 0, 0, 2, 2, 2, 2, 0, 1,\n",
       "       2, 2, 1, 2, 0, 0, 1, 0, 2, 2, 2, 1, 1, 2, 0, 0, 0, 2, 0, 2, 0, 2,\n",
       "       2, 2, 1, 2, 1, 2, 2, 2, 0, 0, 2, 2, 0, 2, 0, 1, 2, 0, 1, 2, 2, 2,\n",
       "       2, 0, 2, 0, 1, 0, 0, 2, 1, 2, 2, 0, 2, 2, 2, 2, 2, 2, 2, 1, 0, 1,\n",
       "       0, 2, 2, 2, 0, 1, 0, 1, 0, 2, 0, 0, 0, 2, 2, 1, 0, 2, 1, 1, 2, 2,\n",
       "       2, 2, 2, 0, 2, 1, 1, 0, 1, 2, 2, 0, 0, 0, 1, 0, 1, 2, 0, 1, 1, 2,\n",
       "       2, 0, 1, 0, 2, 2, 0, 1, 1, 1, 2, 0, 1, 1, 1, 2, 0, 0, 2, 2, 2, 0,\n",
       "       2, 1, 0, 1, 0, 2, 0, 1, 2, 2, 2, 0, 0, 2, 1, 2, 1, 1, 2, 1, 2, 2,\n",
       "       0, 0, 2, 0, 2, 0, 0, 2, 2, 2, 0, 1, 0, 2, 2, 1, 0, 2, 2, 2, 0, 0,\n",
       "       0, 2, 0, 1, 0, 0, 0, 2, 0, 0, 2, 0, 2, 0, 2, 2, 2, 1, 2, 0, 0, 1,\n",
       "       0, 2, 2, 0, 1, 1, 1, 2, 2, 0, 2, 2, 0, 2, 2, 2, 2, 1, 2, 2, 0, 0,\n",
       "       0, 1, 2, 2, 2, 0, 0, 2, 0, 0, 0, 0, 1, 2, 2, 2, 2, 2, 2, 0, 2, 0,\n",
       "       0, 2, 0, 2, 2, 1, 2, 1, 0, 0, 2, 2, 1, 2, 0, 1, 2, 0, 0, 2, 2, 0,\n",
       "       1, 0, 2, 1, 1, 2, 0, 0, 1, 0, 2, 1, 1, 0, 0, 0, 0, 2, 0, 2, 2, 0,\n",
       "       0, 0, 2, 1, 0, 2, 1, 1, 0, 1, 2, 2, 2, 2, 2, 2, 2, 2, 2, 1, 2, 2,\n",
       "       2, 1, 2, 0, 0, 1, 1, 0, 2, 0, 1, 0, 1, 0, 0, 0, 1, 1, 1, 2, 0, 2,\n",
       "       2, 1, 2, 0, 1, 2, 0, 2, 0, 2, 2, 0, 2, 2, 0, 2, 0, 0, 0, 1, 1, 2,\n",
       "       2, 2, 2, 2, 0, 0, 2, 0], dtype=int32)"
      ]
     },
     "execution_count": 60,
     "metadata": {},
     "output_type": "execute_result"
    }
   ],
   "source": [
    "# sklearn implementation of KMeans\n",
    "\n",
    "#define the thing/ choosing 3 clusters\n",
    "kmeans = KMeans(n_clusters=3, random_state = 123)\n",
    "\n",
    "# fit the thing on X_scaled\n",
    "kmeans.fit(X_scaled)\n",
    "\n",
    "# Use (predict using) the thing\n",
    "#which clusters correspond to each datapoint\n",
    "kmeans.predict(X_scaled)"
   ]
  },
  {
   "cell_type": "markdown",
   "metadata": {},
   "source": [
    "________________"
   ]
  },
  {
   "cell_type": "markdown",
   "metadata": {},
   "source": [
    "##### c) Implement the KMeans algorithm on unscaled data and visualize the clusters."
   ]
  },
  {
   "cell_type": "code",
   "execution_count": null,
   "metadata": {},
   "outputs": [],
   "source": []
  },
  {
   "cell_type": "markdown",
   "metadata": {},
   "source": [
    "________________"
   ]
  },
  {
   "cell_type": "markdown",
   "metadata": {},
   "source": [
    "##### d) Repeat the step above but with scaled data."
   ]
  },
  {
   "cell_type": "code",
   "execution_count": null,
   "metadata": {},
   "outputs": [],
   "source": []
  },
  {
   "cell_type": "markdown",
   "metadata": {},
   "source": [
    "________________"
   ]
  },
  {
   "cell_type": "markdown",
   "metadata": {},
   "source": [
    "##### e) Write down the takeaways from this exercise."
   ]
  },
  {
   "cell_type": "code",
   "execution_count": null,
   "metadata": {},
   "outputs": [],
   "source": []
  }
 ],
 "metadata": {
  "kernelspec": {
   "display_name": "Python 3",
   "language": "python",
   "name": "python3"
  },
  "language_info": {
   "codemirror_mode": {
    "name": "ipython",
    "version": 3
   },
   "file_extension": ".py",
   "mimetype": "text/x-python",
   "name": "python",
   "nbconvert_exporter": "python",
   "pygments_lexer": "ipython3",
   "version": "3.8.5"
  }
 },
 "nbformat": 4,
 "nbformat_minor": 4
}
