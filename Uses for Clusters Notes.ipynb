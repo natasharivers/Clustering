{
 "cells": [
  {
   "cell_type": "markdown",
   "metadata": {},
   "source": [
    "# Using Clusters\n",
    "\n",
    "- clustering is a model in itself\n",
    "- clustering is a tool within another model as well"
   ]
  },
  {
   "cell_type": "markdown",
   "metadata": {},
   "source": [
    "<hr style=\"border:2px solid black\"> </hr>"
   ]
  },
  {
   "cell_type": "markdown",
   "metadata": {},
   "source": [
    "## Four ways to use Clusters:\n",
    "1. For Exploration\n",
    "2. as their own targets\n",
    "3. seperate modeling\n",
    "4. as features"
   ]
  },
  {
   "cell_type": "markdown",
   "metadata": {},
   "source": [
    "### 1. For Exploration\n",
    "- to find new drivers\n",
    "- places for cut offs\n",
    "- aid in providing context for interdependence and interaction of independent variables"
   ]
  },
  {
   "cell_type": "markdown",
   "metadata": {},
   "source": [
    "### 2. As their own Target\n",
    "- (ex): population of shoppers you want to know more about\n",
    "    - don't know what to call them yet\n",
    "    - have observations about their shopping habits\n",
    "    - cluster them together by those habits\n",
    "- target that specific cluster for marketing"
   ]
  },
  {
   "cell_type": "markdown",
   "metadata": {},
   "source": [
    "### 3. Seperate Modeling\n",
    "- find drivers between the clusters"
   ]
  },
  {
   "cell_type": "markdown",
   "metadata": {},
   "source": [
    "### 4. As Features\n",
    "- most straight forward\n",
    "- can use as a driver for model fitting\n",
    "    - (ex):\n",
    "        - iris=pd.concat([iris, pd.get_dummies(iris['cluster']), axis=1)\n",
    "        - model1 = DecisionTreeClassifier()\n",
    "        - model1.fit(iris[['petal_length', 'cluster_1']], iris['species'])"
   ]
  },
  {
   "cell_type": "markdown",
   "metadata": {},
   "source": [
    "<hr style=\"border:2px solid black\"> </hr>"
   ]
  },
  {
   "cell_type": "code",
   "execution_count": null,
   "metadata": {},
   "outputs": [],
   "source": []
  }
 ],
 "metadata": {
  "kernelspec": {
   "display_name": "Python 3",
   "language": "python",
   "name": "python3"
  },
  "language_info": {
   "codemirror_mode": {
    "name": "ipython",
    "version": 3
   },
   "file_extension": ".py",
   "mimetype": "text/x-python",
   "name": "python",
   "nbconvert_exporter": "python",
   "pygments_lexer": "ipython3",
   "version": "3.8.5"
  }
 },
 "nbformat": 4,
 "nbformat_minor": 4
}
