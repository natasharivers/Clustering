{
 "cells": [
  {
   "cell_type": "markdown",
   "metadata": {},
   "source": [
    "# Clustering Overview\n",
    "Unsupervised Learning"
   ]
  },
  {
   "cell_type": "markdown",
   "metadata": {},
   "source": [
    "## Machine Learning:\n",
    "   - Supervised\n",
    "       - Classification\n",
    "       - Regression\n",
    "   - Unsupervised\n",
    "       - Clustering\n",
    "       - Dimensionality Reduction"
   ]
  },
  {
   "cell_type": "markdown",
   "metadata": {},
   "source": [
    "- Intelligence == capability of grouping similar objects\n",
    "- Groups of \"unlabeled\" data into \"clusters\" (groups) of similar observations"
   ]
  },
  {
   "cell_type": "markdown",
   "metadata": {},
   "source": [
    "### Clustering Methodologies:\n",
    "- Partition based clustering \n",
    "    - K-Means is most common\n",
    "- Hierarchial clustering\n",
    "- Density-based clustering\n",
    "    - Density-Based Spatial Clustering of Applications with Noise (DBSCAN)"
   ]
  },
  {
   "cell_type": "markdown",
   "metadata": {},
   "source": [
    "<hr style=\"border:1px solid black\"> </hr>"
   ]
  },
  {
   "cell_type": "markdown",
   "metadata": {},
   "source": [
    "### Example:\n",
    "- Goal: Target customers using 3 different marketing strategies\n",
    "- Data we have: 1- age, 2- engament score\n",
    "\n",
    "<br>\n",
    "\n",
    "Customers:\n",
    "   - 1- age: 21, eng: 15 --|\n",
    "   - 2- age: 22, eng: 10 --| Group 1 \n",
    "   - 3- age: 19, eng: 8  --| \n",
    "    ___________________\n",
    "   - 4- age: 44, eng: 28  --|\n",
    "   - 5- age: 40, eng: 25  --| Group 2\n",
    "   - 6- age: 38, eng: 30  --|\n",
    "    ____________________\n",
    "   - 7- age: 56, eng: 14 --|\n",
    "   - 8- age: 54, eng: 12 --| Group 3\n",
    " \n",
    "<br> \n",
    "* groups the 8 customers into 3 groups of like items\n",
    "- in K-Means, you tell the model how many groups\n",
    "- in other models, the computer tells you how many groups it needs\n",
    "\n",
    "- must scale your data in K-Means\n"
   ]
  },
  {
   "cell_type": "markdown",
   "metadata": {},
   "source": [
    "<hr style=\"border:1px solid black\"> </hr>"
   ]
  },
  {
   "cell_type": "markdown",
   "metadata": {},
   "source": [
    "### Clustering: Use Cases\n",
    "\n",
    "- **Customer Segmentation**:\n",
    "- **Recommendation engine**: like Netflix movie recommendation\n",
    "- **Document Classification**: application where you might have a bunch of articles and you want to divide them into different groups. Frequency of which words appear\n",
    "- **Anomaly detection**: alorythm makes cluster, the outliers are your anomaly. if youre not part of a cluster... your an anomaly\n",
    "- **Patient clustering**: demographic info from patients in epidemiology. Same symptoms for several patients? What features do they have in common? (same food, same exercise. etc)\n",
    "- **Survey response clustering**: for polling. a political party might want to do targeting marketing. 5 point scale - 0: strongly disagree to 5: strongly agree.\n",
    "- **Financial sector**: looking at companies revenue and profits. growth, value, dividend companies"
   ]
  },
  {
   "cell_type": "markdown",
   "metadata": {},
   "source": [
    "<hr style=\"border:2px solid black\"> </hr>"
   ]
  },
  {
   "cell_type": "markdown",
   "metadata": {},
   "source": [
    "## Centroid Clustering: KMeans"
   ]
  },
  {
   "cell_type": "markdown",
   "metadata": {},
   "source": [
    "- have to begin with knowing how many clusters you want\n",
    "    - (ex): trying to find a species of bacteria, you already know there are only 5 species.\n",
    "\n",
    "#### Example:\n",
    "- you're a pet store owner. Want two clusters of who likes which pet\n",
    "##### Step 1:\n",
    "- put two X's randomly anywhere (dogs vs cats)\n",
    "- determine if each point is closer to which X\n",
    "- partition the data\n",
    "##### Step 2:    \n",
    "- take mean of two data points in cluster 1, then move X\n",
    "- take mean of four data points in clusters 2, then move X\n",
    "- reassign the points to its closest X\n",
    "- partition the data again into 2 clusters\n",
    "##### Step 3:\n",
    "- repeat the process until your points dont move anymore\n",
    "\n",
    "#### Pros:\n",
    "- simple alogrythm\n",
    "\n",
    "#### Cons:\n",
    "- difficult to chose what K to use (how many clusters)"
   ]
  },
  {
   "cell_type": "markdown",
   "metadata": {},
   "source": [
    "<hr style=\"border:1px solid black\"> </hr>"
   ]
  },
  {
   "cell_type": "markdown",
   "metadata": {},
   "source": [
    "## Density Clustering: DBSCAN\n",
    "\n",
    "- do not need to specifiy the number of clusters\n",
    "- for very dense datasets\n",
    "<br>\n",
    "\n",
    "- starts with any random data point\n",
    "- get hyperparameters\n",
    "    - epsilon: get required distance\n",
    "    - minPoints: get minumum number of data points\n",
    "- ask if there are the minPoints are within your epsilon, if yes.. you have cluster\n",
    "- will likely have outliers (AKA anomalies, AKA noise)\n",
    "\n",
    "#### Pros:\n",
    "- identifies outliers\n"
   ]
  },
  {
   "cell_type": "markdown",
   "metadata": {},
   "source": [
    "<hr style=\"border:1px solid black\"> </hr>"
   ]
  },
  {
   "cell_type": "markdown",
   "metadata": {},
   "source": [
    "## Hierarchial Clustering\n",
    "\n",
    "- Each datapoint is a cluster in itself\n",
    "- Most similar clusters get put together\n",
    "    - groups of similar clusters get clustered together\n",
    "- Hyperparameters:\n",
    "    - Linkage: determines which distance to use between sets of observations\n",
    "        - single linkage: uses minimum distance\n",
    "        - complete or maximum linkage:"
   ]
  },
  {
   "cell_type": "markdown",
   "metadata": {},
   "source": [
    "<hr style=\"border:3px solid black\"> </hr>"
   ]
  },
  {
   "cell_type": "markdown",
   "metadata": {},
   "source": [
    "# Data Wrangling"
   ]
  },
  {
   "cell_type": "code",
   "execution_count": null,
   "metadata": {},
   "outputs": [],
   "source": [
    "#acquire and summarize"
   ]
  },
  {
   "cell_type": "code",
   "execution_count": 10,
   "metadata": {},
   "outputs": [],
   "source": [
    "import acquire\n",
    "import pandas as pd"
   ]
  },
  {
   "cell_type": "code",
   "execution_count": null,
   "metadata": {},
   "outputs": [],
   "source": []
  },
  {
   "cell_type": "code",
   "execution_count": 8,
   "metadata": {},
   "outputs": [],
   "source": [
    "df = acquire.get_mallcustomer_data()"
   ]
  },
  {
   "cell_type": "code",
   "execution_count": 11,
   "metadata": {},
   "outputs": [],
   "source": [
    "#get nulls by column\n",
    "def nulls_by_col(df):\n",
    "    num_missing = df.isnull().sum()\n",
    "    rows = df.shape[0]\n",
    "    prcnt_miss = num_missing / rows * 100\n",
    "    cols_missing = pd.DataFrame({'num_rows_missing': num_missing, 'percent_rows_missing': prcnt_miss})\n",
    "    return cols_missing\n",
    "\n",
    "#get nulls by row\n",
    "def nulls_by_row(df):\n",
    "    num_missing = df.isnull().sum(axis=1)\n",
    "    prcnt_miss = num_missing / df.shape[1] * 100\n",
    "    rows_missing = pd.DataFrame({'num_cols_missing': num_missing, 'percent_cols_missing': prcnt_miss})\\\n",
    "    .reset_index()\\\n",
    "    .groupby(['num_cols_missing', 'percent_cols_missing']).count()\\\n",
    "    .rename(index=str, columns={'index':'num_rows'}).reset_index()\n",
    "    return rows_missing\n"
   ]
  },
  {
   "cell_type": "code",
   "execution_count": 12,
   "metadata": {},
   "outputs": [
    {
     "data": {
      "text/html": [
       "<div>\n",
       "<style scoped>\n",
       "    .dataframe tbody tr th:only-of-type {\n",
       "        vertical-align: middle;\n",
       "    }\n",
       "\n",
       "    .dataframe tbody tr th {\n",
       "        vertical-align: top;\n",
       "    }\n",
       "\n",
       "    .dataframe thead th {\n",
       "        text-align: right;\n",
       "    }\n",
       "</style>\n",
       "<table border=\"1\" class=\"dataframe\">\n",
       "  <thead>\n",
       "    <tr style=\"text-align: right;\">\n",
       "      <th></th>\n",
       "      <th>num_cols_missing</th>\n",
       "      <th>percent_cols_missing</th>\n",
       "      <th>customer_id</th>\n",
       "    </tr>\n",
       "  </thead>\n",
       "  <tbody>\n",
       "    <tr>\n",
       "      <th>0</th>\n",
       "      <td>0</td>\n",
       "      <td>0.0</td>\n",
       "      <td>200</td>\n",
       "    </tr>\n",
       "  </tbody>\n",
       "</table>\n",
       "</div>"
      ],
      "text/plain": [
       "  num_cols_missing percent_cols_missing  customer_id\n",
       "0                0                  0.0          200"
      ]
     },
     "execution_count": 12,
     "metadata": {},
     "output_type": "execute_result"
    }
   ],
   "source": [
    "nulls_by_row(df)"
   ]
  },
  {
   "cell_type": "code",
   "execution_count": 18,
   "metadata": {},
   "outputs": [],
   "source": [
    "#summarize data in the df\n",
    "#head, info, describe, value counts, nulls\n",
    "\n",
    "def summarize(df):\n",
    "    '''\n",
    "    this function will take in a single argument (a pandas df) \n",
    "    output to console various statistics on said dataframe, including:\n",
    "    #.head()\n",
    "    #.info()\n",
    "    #.describe()\n",
    "    #.value_counts()\n",
    "    #observation of nulls in the dataframe\n",
    "    '''\n",
    "    #print head\n",
    "    print('=================================================')\n",
    "    print('Dataframe head: ')\n",
    "    print(df.head(3))\n",
    "    \n",
    "    #print info\n",
    "    print('=================================================')\n",
    "    print('Dataframe info: ')\n",
    "    print(df.info())\n",
    "    \n",
    "    #print descriptive stats\n",
    "    print('=================================================')\n",
    "    print('Dataframe Description: ')\n",
    "    print(df.describe())\n",
    "    num_cols = [col for col in df.columns if df[col].dtype != 'O']\n",
    "    cat_cols = [col for col in df.columns if col not in num_cols]\n",
    "    \n",
    "    #print value counts\n",
    "    print('=================================================')\n",
    "    print('Dataframe value counts: ')\n",
    "    for col in df. columns:\n",
    "        if col in cat_cols:\n",
    "            print(df[col].value_counts())\n",
    "        else:\n",
    "            print(df[col].value_counts(bins=10, sort = False))\n",
    "    \n",
    "    #print nulls by column\n",
    "    print('=================================================')\n",
    "    print('nulls in dataframe by column: ')\n",
    "    print(nulls_by_col(df))\n",
    "    \n",
    "    #print nulls by column\n",
    "    print('=================================================')\n",
    "    print('nulls in dataframe by row: ')\n",
    "    print(nulls_by_row(df))\n",
    "    print('=================================================')\n"
   ]
  },
  {
   "cell_type": "code",
   "execution_count": 19,
   "metadata": {},
   "outputs": [
    {
     "name": "stdout",
     "output_type": "stream",
     "text": [
      "=================================================\n",
      "Dataframe head: \n",
      "             gender  age  annual_income  spending_score\n",
      "customer_id                                            \n",
      "1              Male   19             15              39\n",
      "2              Male   21             15              81\n",
      "3            Female   20             16               6\n",
      "=================================================\n",
      "Dataframe info: \n",
      "<class 'pandas.core.frame.DataFrame'>\n",
      "Int64Index: 200 entries, 1 to 200\n",
      "Data columns (total 4 columns):\n",
      " #   Column          Non-Null Count  Dtype \n",
      "---  ------          --------------  ----- \n",
      " 0   gender          200 non-null    object\n",
      " 1   age             200 non-null    int64 \n",
      " 2   annual_income   200 non-null    int64 \n",
      " 3   spending_score  200 non-null    int64 \n",
      "dtypes: int64(3), object(1)\n",
      "memory usage: 7.8+ KB\n",
      "None\n",
      "=================================================\n",
      "Dataframe Description: \n",
      "              age  annual_income  spending_score\n",
      "count  200.000000     200.000000      200.000000\n",
      "mean    38.850000      60.560000       50.200000\n",
      "std     13.969007      26.264721       25.823522\n",
      "min     18.000000      15.000000        1.000000\n",
      "25%     28.750000      41.500000       34.750000\n",
      "50%     36.000000      61.500000       50.000000\n",
      "75%     49.000000      78.000000       73.000000\n",
      "max     70.000000     137.000000       99.000000\n",
      "=================================================\n",
      "Dataframe value counts: \n",
      "Female    112\n",
      "Male       88\n",
      "Name: gender, dtype: int64\n",
      "(17.947, 23.2]    31\n",
      "(23.2, 28.4]      19\n",
      "(28.4, 33.6]      34\n",
      "(33.6, 38.8]      29\n",
      "(38.8, 44.0]      18\n",
      "(44.0, 49.2]      24\n",
      "(49.2, 54.4]      15\n",
      "(54.4, 59.6]      10\n",
      "(59.6, 64.8]       6\n",
      "(64.8, 70.0]      14\n",
      "Name: age, dtype: int64\n",
      "(14.877, 27.2]    24\n",
      "(27.2, 39.4]      22\n",
      "(39.4, 51.6]      28\n",
      "(51.6, 63.8]      38\n",
      "(63.8, 76.0]      32\n",
      "(76.0, 88.2]      34\n",
      "(88.2, 100.4]      8\n",
      "(100.4, 112.6]     6\n",
      "(112.6, 124.8]     4\n",
      "(124.8, 137.0]     4\n",
      "Name: annual_income, dtype: int64\n",
      "(0.901, 10.8]    16\n",
      "(10.8, 20.6]     20\n",
      "(20.6, 30.4]     10\n",
      "(30.4, 40.2]     17\n",
      "(40.2, 50.0]     40\n",
      "(50.0, 59.8]     32\n",
      "(59.8, 69.6]     11\n",
      "(69.6, 79.4]     24\n",
      "(79.4, 89.2]     14\n",
      "(89.2, 99.0]     16\n",
      "Name: spending_score, dtype: int64\n",
      "=================================================\n",
      "nulls in dataframe by column: \n",
      "                num_rows_missing  percent_rows_missing\n",
      "gender                         0                   0.0\n",
      "age                            0                   0.0\n",
      "annual_income                  0                   0.0\n",
      "spending_score                 0                   0.0\n",
      "=================================================\n",
      "nulls in dataframe by row: \n",
      "  num_cols_missing percent_cols_missing  customer_id\n",
      "0                0                  0.0          200\n",
      "=================================================\n"
     ]
    }
   ],
   "source": [
    "summarize(df)"
   ]
  },
  {
   "cell_type": "code",
   "execution_count": null,
   "metadata": {},
   "outputs": [],
   "source": []
  }
 ],
 "metadata": {
  "kernelspec": {
   "display_name": "Python 3",
   "language": "python",
   "name": "python3"
  },
  "language_info": {
   "codemirror_mode": {
    "name": "ipython",
    "version": 3
   },
   "file_extension": ".py",
   "mimetype": "text/x-python",
   "name": "python",
   "nbconvert_exporter": "python",
   "pygments_lexer": "ipython3",
   "version": "3.8.5"
  }
 },
 "nbformat": 4,
 "nbformat_minor": 4
}
