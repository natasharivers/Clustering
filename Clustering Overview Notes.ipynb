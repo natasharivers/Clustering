{
 "cells": [
  {
   "cell_type": "markdown",
   "metadata": {},
   "source": [
    "# Clustering Overview\n",
    "Unsupervised Learning"
   ]
  },
  {
   "cell_type": "markdown",
   "metadata": {},
   "source": [
    "## Machine Learning:\n",
    "   - Supervised\n",
    "       - Classification\n",
    "       - Regression\n",
    "   - Unsupervised\n",
    "       - Clustering\n",
    "       - Dimensionality Reduction"
   ]
  },
  {
   "cell_type": "markdown",
   "metadata": {},
   "source": [
    "- Intelligence == capability of grouping similar objects\n",
    "- Groups of \"unlabeled\" data into \"clusters\" (groups) of similar observations"
   ]
  },
  {
   "cell_type": "markdown",
   "metadata": {},
   "source": [
    "### Clustering Methodologies:\n",
    "- Partition based clustering \n",
    "    - K-Means is most common\n",
    "- Hierarchial clustering\n",
    "- Density-based clustering\n",
    "    - Density-Based Spatial Clustering of Applications with Noise (DBSCAN)"
   ]
  },
  {
   "cell_type": "markdown",
   "metadata": {},
   "source": [
    "<hr style=\"border:1px solid black\"> </hr>"
   ]
  },
  {
   "cell_type": "markdown",
   "metadata": {},
   "source": [
    "### Example:\n",
    "- Goal: Target customers using 3 different marketing strategies\n",
    "- Data we have: 1- age, 2- engament score\n",
    "\n",
    "<br>\n",
    "\n",
    "Customers:\n",
    "   - 1- age: 21, eng: 15 --|\n",
    "   - 2- age: 22, eng: 10 --| Group 1 \n",
    "   - 3- age: 19, eng: 8  --| \n",
    "    ___________________\n",
    "   - 4- age: 44, eng: 28  --|\n",
    "   - 5- age: 40, eng: 25  --| Group 2\n",
    "   - 6- age: 38, eng: 30  --|\n",
    "    ____________________\n",
    "   - 7- age: 56, eng: 14 --|\n",
    "   - 8- age: 54, eng: 12 --| Group 3\n",
    " \n",
    "<br> \n",
    "* groups the 8 customers into 3 groups of like items\n",
    "- in K-Means, you tell the model how many groups\n",
    "- in other models, the computer tells you how many groups it needs\n",
    "\n",
    "- must scale your data in K-Means\n"
   ]
  },
  {
   "cell_type": "markdown",
   "metadata": {},
   "source": [
    "<hr style=\"border:1px solid black\"> </hr>"
   ]
  },
  {
   "cell_type": "markdown",
   "metadata": {},
   "source": [
    "### Clustering: Use Cases\n",
    "\n",
    "- **Customer Segmentation**:\n",
    "- **Recommendation engine**: like Netflix movie recommendation\n",
    "- **Document Classification**: application where you might have a bunch of articles and you want to divide them into different groups. Frequency of which words appear\n",
    "- **Anomaly detection**: alorythm makes cluster, the outliers are your anomaly. if youre not part of a cluster... your an anomaly\n",
    "- **Patient clustering**: demographic info from patients in epidemiology. Same symptoms for several patients? What features do they have in common? (same food, same exercise. etc)\n",
    "- **Survey response clustering**: for polling. a political party might want to do targeting marketing. 5 point scale - 0: strongly disagree to 5: strongly agree.\n",
    "- **Financial sector**: looking at companies revenue and profits. growth, value, dividend companies"
   ]
  },
  {
   "cell_type": "markdown",
   "metadata": {},
   "source": [
    "<hr style=\"border:2px solid black\"> </hr>"
   ]
  },
  {
   "cell_type": "markdown",
   "metadata": {},
   "source": [
    "## Centroid Clustering: KMeans"
   ]
  },
  {
   "cell_type": "markdown",
   "metadata": {},
   "source": [
    "- have to begin with knowing how many clusters you want\n",
    "    - (ex): trying to find a species of bacteria, you already know there are only 5 species.\n",
    "\n",
    "#### Example:\n",
    "- you're a pet store owner. Want two clusters of who likes which pet\n",
    "##### Step 1:\n",
    "- put two X's randomly anywhere (dogs vs cats)\n",
    "- determine if each point is closer to which X\n",
    "- partition the data\n",
    "##### Step 2:    \n",
    "- take mean of two data points in cluster 1, then move X\n",
    "- take mean of four data points in clusters 2, then move X\n",
    "- reassign the points to its closest X\n",
    "- partition the data again into 2 clusters\n",
    "##### Step 3:\n",
    "- repeat the process until your points dont move anymore\n",
    "\n",
    "#### Pros:\n",
    "- simple alogrythm\n",
    "\n",
    "#### Cons:\n",
    "- difficult to chose what K to use (how many clusters)"
   ]
  },
  {
   "cell_type": "markdown",
   "metadata": {},
   "source": [
    "<hr style=\"border:1px solid black\"> </hr>"
   ]
  },
  {
   "cell_type": "markdown",
   "metadata": {},
   "source": [
    "## Density Clustering: DBSCAN\n",
    "\n",
    "- do not need to specifiy the number of clusters\n",
    "- for very dense datasets\n",
    "<br>\n",
    "\n",
    "- starts with any random data point\n",
    "- get hyperparameters\n",
    "    - epsilon: get required distance\n",
    "    - minPoints: get minumum number of data points\n",
    "- ask if there are the minPoints are within your epsilon, if yes.. you have cluster\n",
    "- will likely have outliers (AKA anomalies, AKA noise)\n",
    "\n",
    "#### Pros:\n",
    "- identifies outliers\n"
   ]
  },
  {
   "cell_type": "markdown",
   "metadata": {},
   "source": [
    "<hr style=\"border:1px solid black\"> </hr>"
   ]
  },
  {
   "cell_type": "markdown",
   "metadata": {},
   "source": [
    "## Hierarchial Clustering\n",
    "\n",
    "- Each datapoint is a cluster in itself\n",
    "- Most similar clusters get put together\n",
    "    - groups of similar clusters get clustered together\n",
    "- Hyperparameters:\n",
    "    - Linkage: determines which distance to use between sets of observations\n",
    "        - single linkage: uses minimum distance\n",
    "        - complete or maximum linkage:"
   ]
  },
  {
   "cell_type": "code",
   "execution_count": null,
   "metadata": {},
   "outputs": [],
   "source": []
  }
 ],
 "metadata": {
  "kernelspec": {
   "display_name": "Python 3",
   "language": "python",
   "name": "python3"
  },
  "language_info": {
   "codemirror_mode": {
    "name": "ipython",
    "version": 3
   },
   "file_extension": ".py",
   "mimetype": "text/x-python",
   "name": "python",
   "nbconvert_exporter": "python",
   "pygments_lexer": "ipython3",
   "version": "3.8.5"
  }
 },
 "nbformat": 4,
 "nbformat_minor": 4
}
